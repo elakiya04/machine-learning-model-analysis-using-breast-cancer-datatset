{
 "cells": [
  {
   "cell_type": "code",
   "execution_count": 1,
   "id": "0060f1e5",
   "metadata": {
    "_cell_guid": "b1076dfc-b9ad-4769-8c92-a6c4dae69d19",
    "_uuid": "8f2839f25d086af736a60e9eeb907d3b93b6e0e5",
    "execution": {
     "iopub.execute_input": "2021-11-12T12:48:07.145518Z",
     "iopub.status.busy": "2021-11-12T12:48:07.144388Z",
     "iopub.status.idle": "2021-11-12T12:48:07.167137Z",
     "shell.execute_reply": "2021-11-12T12:48:07.166539Z",
     "shell.execute_reply.started": "2021-11-12T12:46:47.043020Z"
    },
    "papermill": {
     "duration": 0.053597,
     "end_time": "2021-11-12T12:48:07.167292",
     "exception": false,
     "start_time": "2021-11-12T12:48:07.113695",
     "status": "completed"
    },
    "tags": []
   },
   "outputs": [
    {
     "name": "stdout",
     "output_type": "stream",
     "text": [
      "/kaggle/input/breast-cancer-wisconsin-data/data.csv\n"
     ]
    }
   ],
   "source": [
    "# This Python 3 environment comes with many helpful analytics libraries installed\n",
    "# It is defined by the kaggle/python Docker image: https://github.com/kaggle/docker-python\n",
    "# For example, here's several helpful packages to load\n",
    "\n",
    "import numpy as np # linear algebra\n",
    "import pandas as pd # data processing, CSV file I/O (e.g. pd.read_csv)\n",
    "\n",
    "# Input data files are available in the read-only \"../input/\" directory\n",
    "# For example, running this (by clicking run or pressing Shift+Enter) will list all files under the input directory\n",
    "\n",
    "import os\n",
    "\n",
    "for dirname, _, filenames in os.walk('/kaggle/input'):\n",
    "    for filename in filenames:\n",
    "        print(os.path.join(dirname, filename))\n",
    "\n",
    "# You can write up to 20GB to the current directory (/kaggle/working/) that gets preserved as output when you create a version using \"Save & Run All\" \n",
    "# You can also write temporary files to /kaggle/temp/, but they won't be saved outside of the current session"
   ]
  },
  {
   "cell_type": "code",
   "execution_count": 2,
   "id": "c93fb912",
   "metadata": {
    "execution": {
     "iopub.execute_input": "2021-11-12T12:48:07.227120Z",
     "iopub.status.busy": "2021-11-12T12:48:07.226390Z",
     "iopub.status.idle": "2021-11-12T12:48:08.311215Z",
     "shell.execute_reply": "2021-11-12T12:48:08.310583Z",
     "shell.execute_reply.started": "2021-11-12T12:46:47.055536Z"
    },
    "papermill": {
     "duration": 1.11702,
     "end_time": "2021-11-12T12:48:08.311359",
     "exception": false,
     "start_time": "2021-11-12T12:48:07.194339",
     "status": "completed"
    },
    "tags": []
   },
   "outputs": [],
   "source": [
    "from sklearn import datasets, metrics\n",
    "from sklearn.model_selection import train_test_split\n",
    "from sklearn.preprocessing import StandardScaler\n",
    "from sklearn.linear_model import LinearRegression, SGDClassifier, LogisticRegression, Perceptron\n",
    "from sklearn.neural_network import MLPClassifier\n",
    "#from sklearn.neighbors import KNeigbhorClassifier\n",
    "from sklearn.svm import SVR, SVC\n",
    "from sklearn.naive_bayes import GaussianNB, BernoulliNB, ComplementNB, MultinomialNB\n",
    "from sklearn.ensemble import AdaBoostClassifier, GradientBoostingClassifier, VotingClassifier, BaggingClassifier, RandomForestClassifier\n",
    "from sklearn.tree import DecisionTreeClassifier\n",
    "from sklearn.model_selection import cross_val_score\n",
    "from sklearn.metrics import mean_squared_error, mean_absolute_error, accuracy_score, confusion_matrix, classification_report, precision_score"
   ]
  },
  {
   "cell_type": "code",
   "execution_count": 3,
   "id": "0fa8a641",
   "metadata": {
    "execution": {
     "iopub.execute_input": "2021-11-12T12:48:08.369353Z",
     "iopub.status.busy": "2021-11-12T12:48:08.368402Z",
     "iopub.status.idle": "2021-11-12T12:48:08.407360Z",
     "shell.execute_reply": "2021-11-12T12:48:08.407895Z",
     "shell.execute_reply.started": "2021-11-12T12:46:47.067277Z"
    },
    "papermill": {
     "duration": 0.068937,
     "end_time": "2021-11-12T12:48:08.408061",
     "exception": false,
     "start_time": "2021-11-12T12:48:08.339124",
     "status": "completed"
    },
    "tags": []
   },
   "outputs": [
    {
     "name": "stdout",
     "output_type": "stream",
     "text": [
      "<class 'pandas.core.frame.DataFrame'>\n",
      "RangeIndex: 569 entries, 0 to 568\n",
      "Data columns (total 33 columns):\n",
      " #   Column                   Non-Null Count  Dtype  \n",
      "---  ------                   --------------  -----  \n",
      " 0   id                       569 non-null    int64  \n",
      " 1   diagnosis                569 non-null    object \n",
      " 2   radius_mean              569 non-null    float64\n",
      " 3   texture_mean             569 non-null    float64\n",
      " 4   perimeter_mean           569 non-null    float64\n",
      " 5   area_mean                569 non-null    float64\n",
      " 6   smoothness_mean          569 non-null    float64\n",
      " 7   compactness_mean         569 non-null    float64\n",
      " 8   concavity_mean           569 non-null    float64\n",
      " 9   concave points_mean      569 non-null    float64\n",
      " 10  symmetry_mean            569 non-null    float64\n",
      " 11  fractal_dimension_mean   569 non-null    float64\n",
      " 12  radius_se                569 non-null    float64\n",
      " 13  texture_se               569 non-null    float64\n",
      " 14  perimeter_se             569 non-null    float64\n",
      " 15  area_se                  569 non-null    float64\n",
      " 16  smoothness_se            569 non-null    float64\n",
      " 17  compactness_se           569 non-null    float64\n",
      " 18  concavity_se             569 non-null    float64\n",
      " 19  concave points_se        569 non-null    float64\n",
      " 20  symmetry_se              569 non-null    float64\n",
      " 21  fractal_dimension_se     569 non-null    float64\n",
      " 22  radius_worst             569 non-null    float64\n",
      " 23  texture_worst            569 non-null    float64\n",
      " 24  perimeter_worst          569 non-null    float64\n",
      " 25  area_worst               569 non-null    float64\n",
      " 26  smoothness_worst         569 non-null    float64\n",
      " 27  compactness_worst        569 non-null    float64\n",
      " 28  concavity_worst          569 non-null    float64\n",
      " 29  concave points_worst     569 non-null    float64\n",
      " 30  symmetry_worst           569 non-null    float64\n",
      " 31  fractal_dimension_worst  569 non-null    float64\n",
      " 32  Unnamed: 32              0 non-null      float64\n",
      "dtypes: float64(31), int64(1), object(1)\n",
      "memory usage: 146.8+ KB\n"
     ]
    }
   ],
   "source": [
    "data=pd.read_csv(\"../input/breast-cancer-wisconsin-data/data.csv\")\n",
    "data.info()"
   ]
  },
  {
   "cell_type": "code",
   "execution_count": 4,
   "id": "cae36edc",
   "metadata": {
    "execution": {
     "iopub.execute_input": "2021-11-12T12:48:08.470968Z",
     "iopub.status.busy": "2021-11-12T12:48:08.470336Z",
     "iopub.status.idle": "2021-11-12T12:48:08.497920Z",
     "shell.execute_reply": "2021-11-12T12:48:08.498449Z",
     "shell.execute_reply.started": "2021-11-12T12:46:47.098261Z"
    },
    "papermill": {
     "duration": 0.063434,
     "end_time": "2021-11-12T12:48:08.498614",
     "exception": false,
     "start_time": "2021-11-12T12:48:08.435180",
     "status": "completed"
    },
    "tags": []
   },
   "outputs": [
    {
     "data": {
      "text/html": [
       "<div>\n",
       "<style scoped>\n",
       "    .dataframe tbody tr th:only-of-type {\n",
       "        vertical-align: middle;\n",
       "    }\n",
       "\n",
       "    .dataframe tbody tr th {\n",
       "        vertical-align: top;\n",
       "    }\n",
       "\n",
       "    .dataframe thead th {\n",
       "        text-align: right;\n",
       "    }\n",
       "</style>\n",
       "<table border=\"1\" class=\"dataframe\">\n",
       "  <thead>\n",
       "    <tr style=\"text-align: right;\">\n",
       "      <th></th>\n",
       "      <th>id</th>\n",
       "      <th>diagnosis</th>\n",
       "      <th>radius_mean</th>\n",
       "      <th>texture_mean</th>\n",
       "      <th>perimeter_mean</th>\n",
       "      <th>area_mean</th>\n",
       "      <th>smoothness_mean</th>\n",
       "      <th>compactness_mean</th>\n",
       "      <th>concavity_mean</th>\n",
       "      <th>concave points_mean</th>\n",
       "      <th>...</th>\n",
       "      <th>texture_worst</th>\n",
       "      <th>perimeter_worst</th>\n",
       "      <th>area_worst</th>\n",
       "      <th>smoothness_worst</th>\n",
       "      <th>compactness_worst</th>\n",
       "      <th>concavity_worst</th>\n",
       "      <th>concave points_worst</th>\n",
       "      <th>symmetry_worst</th>\n",
       "      <th>fractal_dimension_worst</th>\n",
       "      <th>Unnamed: 32</th>\n",
       "    </tr>\n",
       "  </thead>\n",
       "  <tbody>\n",
       "    <tr>\n",
       "      <th>0</th>\n",
       "      <td>842302</td>\n",
       "      <td>M</td>\n",
       "      <td>17.99</td>\n",
       "      <td>10.38</td>\n",
       "      <td>122.80</td>\n",
       "      <td>1001.0</td>\n",
       "      <td>0.11840</td>\n",
       "      <td>0.27760</td>\n",
       "      <td>0.3001</td>\n",
       "      <td>0.14710</td>\n",
       "      <td>...</td>\n",
       "      <td>17.33</td>\n",
       "      <td>184.60</td>\n",
       "      <td>2019.0</td>\n",
       "      <td>0.1622</td>\n",
       "      <td>0.6656</td>\n",
       "      <td>0.7119</td>\n",
       "      <td>0.2654</td>\n",
       "      <td>0.4601</td>\n",
       "      <td>0.11890</td>\n",
       "      <td>NaN</td>\n",
       "    </tr>\n",
       "    <tr>\n",
       "      <th>1</th>\n",
       "      <td>842517</td>\n",
       "      <td>M</td>\n",
       "      <td>20.57</td>\n",
       "      <td>17.77</td>\n",
       "      <td>132.90</td>\n",
       "      <td>1326.0</td>\n",
       "      <td>0.08474</td>\n",
       "      <td>0.07864</td>\n",
       "      <td>0.0869</td>\n",
       "      <td>0.07017</td>\n",
       "      <td>...</td>\n",
       "      <td>23.41</td>\n",
       "      <td>158.80</td>\n",
       "      <td>1956.0</td>\n",
       "      <td>0.1238</td>\n",
       "      <td>0.1866</td>\n",
       "      <td>0.2416</td>\n",
       "      <td>0.1860</td>\n",
       "      <td>0.2750</td>\n",
       "      <td>0.08902</td>\n",
       "      <td>NaN</td>\n",
       "    </tr>\n",
       "    <tr>\n",
       "      <th>2</th>\n",
       "      <td>84300903</td>\n",
       "      <td>M</td>\n",
       "      <td>19.69</td>\n",
       "      <td>21.25</td>\n",
       "      <td>130.00</td>\n",
       "      <td>1203.0</td>\n",
       "      <td>0.10960</td>\n",
       "      <td>0.15990</td>\n",
       "      <td>0.1974</td>\n",
       "      <td>0.12790</td>\n",
       "      <td>...</td>\n",
       "      <td>25.53</td>\n",
       "      <td>152.50</td>\n",
       "      <td>1709.0</td>\n",
       "      <td>0.1444</td>\n",
       "      <td>0.4245</td>\n",
       "      <td>0.4504</td>\n",
       "      <td>0.2430</td>\n",
       "      <td>0.3613</td>\n",
       "      <td>0.08758</td>\n",
       "      <td>NaN</td>\n",
       "    </tr>\n",
       "    <tr>\n",
       "      <th>3</th>\n",
       "      <td>84348301</td>\n",
       "      <td>M</td>\n",
       "      <td>11.42</td>\n",
       "      <td>20.38</td>\n",
       "      <td>77.58</td>\n",
       "      <td>386.1</td>\n",
       "      <td>0.14250</td>\n",
       "      <td>0.28390</td>\n",
       "      <td>0.2414</td>\n",
       "      <td>0.10520</td>\n",
       "      <td>...</td>\n",
       "      <td>26.50</td>\n",
       "      <td>98.87</td>\n",
       "      <td>567.7</td>\n",
       "      <td>0.2098</td>\n",
       "      <td>0.8663</td>\n",
       "      <td>0.6869</td>\n",
       "      <td>0.2575</td>\n",
       "      <td>0.6638</td>\n",
       "      <td>0.17300</td>\n",
       "      <td>NaN</td>\n",
       "    </tr>\n",
       "    <tr>\n",
       "      <th>4</th>\n",
       "      <td>84358402</td>\n",
       "      <td>M</td>\n",
       "      <td>20.29</td>\n",
       "      <td>14.34</td>\n",
       "      <td>135.10</td>\n",
       "      <td>1297.0</td>\n",
       "      <td>0.10030</td>\n",
       "      <td>0.13280</td>\n",
       "      <td>0.1980</td>\n",
       "      <td>0.10430</td>\n",
       "      <td>...</td>\n",
       "      <td>16.67</td>\n",
       "      <td>152.20</td>\n",
       "      <td>1575.0</td>\n",
       "      <td>0.1374</td>\n",
       "      <td>0.2050</td>\n",
       "      <td>0.4000</td>\n",
       "      <td>0.1625</td>\n",
       "      <td>0.2364</td>\n",
       "      <td>0.07678</td>\n",
       "      <td>NaN</td>\n",
       "    </tr>\n",
       "  </tbody>\n",
       "</table>\n",
       "<p>5 rows × 33 columns</p>\n",
       "</div>"
      ],
      "text/plain": [
       "         id diagnosis  radius_mean  texture_mean  perimeter_mean  area_mean  \\\n",
       "0    842302         M        17.99         10.38          122.80     1001.0   \n",
       "1    842517         M        20.57         17.77          132.90     1326.0   \n",
       "2  84300903         M        19.69         21.25          130.00     1203.0   \n",
       "3  84348301         M        11.42         20.38           77.58      386.1   \n",
       "4  84358402         M        20.29         14.34          135.10     1297.0   \n",
       "\n",
       "   smoothness_mean  compactness_mean  concavity_mean  concave points_mean  \\\n",
       "0          0.11840           0.27760          0.3001              0.14710   \n",
       "1          0.08474           0.07864          0.0869              0.07017   \n",
       "2          0.10960           0.15990          0.1974              0.12790   \n",
       "3          0.14250           0.28390          0.2414              0.10520   \n",
       "4          0.10030           0.13280          0.1980              0.10430   \n",
       "\n",
       "   ...  texture_worst  perimeter_worst  area_worst  smoothness_worst  \\\n",
       "0  ...          17.33           184.60      2019.0            0.1622   \n",
       "1  ...          23.41           158.80      1956.0            0.1238   \n",
       "2  ...          25.53           152.50      1709.0            0.1444   \n",
       "3  ...          26.50            98.87       567.7            0.2098   \n",
       "4  ...          16.67           152.20      1575.0            0.1374   \n",
       "\n",
       "   compactness_worst  concavity_worst  concave points_worst  symmetry_worst  \\\n",
       "0             0.6656           0.7119                0.2654          0.4601   \n",
       "1             0.1866           0.2416                0.1860          0.2750   \n",
       "2             0.4245           0.4504                0.2430          0.3613   \n",
       "3             0.8663           0.6869                0.2575          0.6638   \n",
       "4             0.2050           0.4000                0.1625          0.2364   \n",
       "\n",
       "   fractal_dimension_worst  Unnamed: 32  \n",
       "0                  0.11890          NaN  \n",
       "1                  0.08902          NaN  \n",
       "2                  0.08758          NaN  \n",
       "3                  0.17300          NaN  \n",
       "4                  0.07678          NaN  \n",
       "\n",
       "[5 rows x 33 columns]"
      ]
     },
     "execution_count": 4,
     "metadata": {},
     "output_type": "execute_result"
    }
   ],
   "source": [
    "data.head()"
   ]
  },
  {
   "cell_type": "code",
   "execution_count": 5,
   "id": "cd9e157b",
   "metadata": {
    "execution": {
     "iopub.execute_input": "2021-11-12T12:48:08.563877Z",
     "iopub.status.busy": "2021-11-12T12:48:08.563094Z",
     "iopub.status.idle": "2021-11-12T12:48:08.566282Z",
     "shell.execute_reply": "2021-11-12T12:48:08.566778Z",
     "shell.execute_reply.started": "2021-11-12T12:46:47.131106Z"
    },
    "papermill": {
     "duration": 0.039562,
     "end_time": "2021-11-12T12:48:08.566952",
     "exception": false,
     "start_time": "2021-11-12T12:48:08.527390",
     "status": "completed"
    },
    "tags": []
   },
   "outputs": [
    {
     "data": {
      "text/plain": [
       "id                           0\n",
       "diagnosis                    0\n",
       "radius_mean                  0\n",
       "texture_mean                 0\n",
       "perimeter_mean               0\n",
       "area_mean                    0\n",
       "smoothness_mean              0\n",
       "compactness_mean             0\n",
       "concavity_mean               0\n",
       "concave points_mean          0\n",
       "symmetry_mean                0\n",
       "fractal_dimension_mean       0\n",
       "radius_se                    0\n",
       "texture_se                   0\n",
       "perimeter_se                 0\n",
       "area_se                      0\n",
       "smoothness_se                0\n",
       "compactness_se               0\n",
       "concavity_se                 0\n",
       "concave points_se            0\n",
       "symmetry_se                  0\n",
       "fractal_dimension_se         0\n",
       "radius_worst                 0\n",
       "texture_worst                0\n",
       "perimeter_worst              0\n",
       "area_worst                   0\n",
       "smoothness_worst             0\n",
       "compactness_worst            0\n",
       "concavity_worst              0\n",
       "concave points_worst         0\n",
       "symmetry_worst               0\n",
       "fractal_dimension_worst      0\n",
       "Unnamed: 32                569\n",
       "dtype: int64"
      ]
     },
     "execution_count": 5,
     "metadata": {},
     "output_type": "execute_result"
    }
   ],
   "source": [
    "data.isna().sum()"
   ]
  },
  {
   "cell_type": "code",
   "execution_count": 6,
   "id": "8beb7ec1",
   "metadata": {
    "execution": {
     "iopub.execute_input": "2021-11-12T12:48:08.629926Z",
     "iopub.status.busy": "2021-11-12T12:48:08.629262Z",
     "iopub.status.idle": "2021-11-12T12:48:08.631070Z",
     "shell.execute_reply": "2021-11-12T12:48:08.631629Z",
     "shell.execute_reply.started": "2021-11-12T12:46:47.142859Z"
    },
    "papermill": {
     "duration": 0.036705,
     "end_time": "2021-11-12T12:48:08.631813",
     "exception": false,
     "start_time": "2021-11-12T12:48:08.595108",
     "status": "completed"
    },
    "tags": []
   },
   "outputs": [],
   "source": [
    "q=['radius_worst', 'texture_worst', 'perimeter_worst', 'area_worst', 'smoothness_worst', \n",
    "   'compactness_worst', 'concavity_worst', 'concave points_worst', 'symmetry_worst', \n",
    "   'fractal_dimension_worst']\n",
    "data=data.drop(q, axis=1)"
   ]
  },
  {
   "cell_type": "code",
   "execution_count": 7,
   "id": "9f070fd3",
   "metadata": {
    "execution": {
     "iopub.execute_input": "2021-11-12T12:48:08.691167Z",
     "iopub.status.busy": "2021-11-12T12:48:08.690542Z",
     "iopub.status.idle": "2021-11-12T12:48:08.697902Z",
     "shell.execute_reply": "2021-11-12T12:48:08.698438Z",
     "shell.execute_reply.started": "2021-11-12T12:46:47.152624Z"
    },
    "papermill": {
     "duration": 0.038454,
     "end_time": "2021-11-12T12:48:08.698594",
     "exception": false,
     "start_time": "2021-11-12T12:48:08.660140",
     "status": "completed"
    },
    "tags": []
   },
   "outputs": [
    {
     "data": {
      "text/plain": [
       "id                          0\n",
       "diagnosis                   0\n",
       "radius_mean                 0\n",
       "texture_mean                0\n",
       "perimeter_mean              0\n",
       "area_mean                   0\n",
       "smoothness_mean             0\n",
       "compactness_mean            0\n",
       "concavity_mean              0\n",
       "concave points_mean         0\n",
       "symmetry_mean               0\n",
       "fractal_dimension_mean      0\n",
       "radius_se                   0\n",
       "texture_se                  0\n",
       "perimeter_se                0\n",
       "area_se                     0\n",
       "smoothness_se               0\n",
       "compactness_se              0\n",
       "concavity_se                0\n",
       "concave points_se           0\n",
       "symmetry_se                 0\n",
       "fractal_dimension_se        0\n",
       "Unnamed: 32               569\n",
       "dtype: int64"
      ]
     },
     "execution_count": 7,
     "metadata": {},
     "output_type": "execute_result"
    }
   ],
   "source": [
    "data.isna().sum()"
   ]
  },
  {
   "cell_type": "code",
   "execution_count": 8,
   "id": "4c583f79",
   "metadata": {
    "execution": {
     "iopub.execute_input": "2021-11-12T12:48:08.758362Z",
     "iopub.status.busy": "2021-11-12T12:48:08.757760Z",
     "iopub.status.idle": "2021-11-12T12:48:08.762119Z",
     "shell.execute_reply": "2021-11-12T12:48:08.762675Z",
     "shell.execute_reply.started": "2021-11-12T12:46:47.174454Z"
    },
    "papermill": {
     "duration": 0.035664,
     "end_time": "2021-11-12T12:48:08.762845",
     "exception": false,
     "start_time": "2021-11-12T12:48:08.727181",
     "status": "completed"
    },
    "tags": []
   },
   "outputs": [],
   "source": [
    "data=data.drop(['Unnamed: 32', 'id'], axis = 1)"
   ]
  },
  {
   "cell_type": "code",
   "execution_count": 9,
   "id": "69a0554a",
   "metadata": {
    "execution": {
     "iopub.execute_input": "2021-11-12T12:48:08.822891Z",
     "iopub.status.busy": "2021-11-12T12:48:08.822272Z",
     "iopub.status.idle": "2021-11-12T12:48:08.827074Z",
     "shell.execute_reply": "2021-11-12T12:48:08.827593Z",
     "shell.execute_reply.started": "2021-11-12T12:46:47.188897Z"
    },
    "papermill": {
     "duration": 0.036349,
     "end_time": "2021-11-12T12:48:08.827767",
     "exception": false,
     "start_time": "2021-11-12T12:48:08.791418",
     "status": "completed"
    },
    "tags": []
   },
   "outputs": [],
   "source": [
    "from sklearn.preprocessing import LabelEncoder\n",
    "label=LabelEncoder()\n",
    "data['diagnosis']=label.fit_transform(data[\"diagnosis\"])"
   ]
  },
  {
   "cell_type": "code",
   "execution_count": 10,
   "id": "43902f14",
   "metadata": {
    "execution": {
     "iopub.execute_input": "2021-11-12T12:48:08.891609Z",
     "iopub.status.busy": "2021-11-12T12:48:08.890963Z",
     "iopub.status.idle": "2021-11-12T12:48:08.893286Z",
     "shell.execute_reply": "2021-11-12T12:48:08.893762Z",
     "shell.execute_reply.started": "2021-11-12T12:46:47.200294Z"
    },
    "papermill": {
     "duration": 0.037031,
     "end_time": "2021-11-12T12:48:08.893914",
     "exception": false,
     "start_time": "2021-11-12T12:48:08.856883",
     "status": "completed"
    },
    "tags": []
   },
   "outputs": [
    {
     "data": {
      "text/plain": [
       "array([1, 0])"
      ]
     },
     "execution_count": 10,
     "metadata": {},
     "output_type": "execute_result"
    }
   ],
   "source": [
    "data['diagnosis'].unique()"
   ]
  },
  {
   "cell_type": "code",
   "execution_count": 11,
   "id": "12c48cb7",
   "metadata": {
    "execution": {
     "iopub.execute_input": "2021-11-12T12:48:08.954547Z",
     "iopub.status.busy": "2021-11-12T12:48:08.953932Z",
     "iopub.status.idle": "2021-11-12T12:48:08.966383Z",
     "shell.execute_reply": "2021-11-12T12:48:08.967009Z",
     "shell.execute_reply.started": "2021-11-12T12:46:47.212112Z"
    },
    "papermill": {
     "duration": 0.044328,
     "end_time": "2021-11-12T12:48:08.967173",
     "exception": false,
     "start_time": "2021-11-12T12:48:08.922845",
     "status": "completed"
    },
    "tags": []
   },
   "outputs": [
    {
     "name": "stdout",
     "output_type": "stream",
     "text": [
      "<class 'pandas.core.frame.DataFrame'>\n",
      "RangeIndex: 569 entries, 0 to 568\n",
      "Data columns (total 21 columns):\n",
      " #   Column                  Non-Null Count  Dtype  \n",
      "---  ------                  --------------  -----  \n",
      " 0   diagnosis               569 non-null    int64  \n",
      " 1   radius_mean             569 non-null    float64\n",
      " 2   texture_mean            569 non-null    float64\n",
      " 3   perimeter_mean          569 non-null    float64\n",
      " 4   area_mean               569 non-null    float64\n",
      " 5   smoothness_mean         569 non-null    float64\n",
      " 6   compactness_mean        569 non-null    float64\n",
      " 7   concavity_mean          569 non-null    float64\n",
      " 8   concave points_mean     569 non-null    float64\n",
      " 9   symmetry_mean           569 non-null    float64\n",
      " 10  fractal_dimension_mean  569 non-null    float64\n",
      " 11  radius_se               569 non-null    float64\n",
      " 12  texture_se              569 non-null    float64\n",
      " 13  perimeter_se            569 non-null    float64\n",
      " 14  area_se                 569 non-null    float64\n",
      " 15  smoothness_se           569 non-null    float64\n",
      " 16  compactness_se          569 non-null    float64\n",
      " 17  concavity_se            569 non-null    float64\n",
      " 18  concave points_se       569 non-null    float64\n",
      " 19  symmetry_se             569 non-null    float64\n",
      " 20  fractal_dimension_se    569 non-null    float64\n",
      "dtypes: float64(20), int64(1)\n",
      "memory usage: 93.5 KB\n",
      "None\n"
     ]
    }
   ],
   "source": [
    "\n",
    "print(data.info()) "
   ]
  },
  {
   "cell_type": "code",
   "execution_count": 12,
   "id": "90cfe7a5",
   "metadata": {
    "execution": {
     "iopub.execute_input": "2021-11-12T12:48:09.059547Z",
     "iopub.status.busy": "2021-11-12T12:48:09.054948Z",
     "iopub.status.idle": "2021-11-12T12:48:09.074185Z",
     "shell.execute_reply": "2021-11-12T12:48:09.074706Z",
     "shell.execute_reply.started": "2021-11-12T12:46:47.230975Z"
    },
    "papermill": {
     "duration": 0.075405,
     "end_time": "2021-11-12T12:48:09.074961",
     "exception": false,
     "start_time": "2021-11-12T12:48:08.999556",
     "status": "completed"
    },
    "tags": []
   },
   "outputs": [
    {
     "data": {
      "text/html": [
       "<div>\n",
       "<style scoped>\n",
       "    .dataframe tbody tr th:only-of-type {\n",
       "        vertical-align: middle;\n",
       "    }\n",
       "\n",
       "    .dataframe tbody tr th {\n",
       "        vertical-align: top;\n",
       "    }\n",
       "\n",
       "    .dataframe thead th {\n",
       "        text-align: right;\n",
       "    }\n",
       "</style>\n",
       "<table border=\"1\" class=\"dataframe\">\n",
       "  <thead>\n",
       "    <tr style=\"text-align: right;\">\n",
       "      <th></th>\n",
       "      <th>radius_mean</th>\n",
       "      <th>texture_mean</th>\n",
       "      <th>perimeter_mean</th>\n",
       "      <th>area_mean</th>\n",
       "      <th>smoothness_mean</th>\n",
       "      <th>compactness_mean</th>\n",
       "      <th>concavity_mean</th>\n",
       "      <th>concave points_mean</th>\n",
       "      <th>symmetry_mean</th>\n",
       "      <th>fractal_dimension_mean</th>\n",
       "      <th>radius_se</th>\n",
       "      <th>texture_se</th>\n",
       "      <th>perimeter_se</th>\n",
       "      <th>area_se</th>\n",
       "      <th>smoothness_se</th>\n",
       "      <th>compactness_se</th>\n",
       "      <th>concavity_se</th>\n",
       "      <th>concave points_se</th>\n",
       "      <th>symmetry_se</th>\n",
       "      <th>fractal_dimension_se</th>\n",
       "    </tr>\n",
       "  </thead>\n",
       "  <tbody>\n",
       "    <tr>\n",
       "      <th>0</th>\n",
       "      <td>17.99</td>\n",
       "      <td>10.38</td>\n",
       "      <td>122.80</td>\n",
       "      <td>1001.0</td>\n",
       "      <td>0.11840</td>\n",
       "      <td>0.27760</td>\n",
       "      <td>0.3001</td>\n",
       "      <td>0.14710</td>\n",
       "      <td>0.2419</td>\n",
       "      <td>0.07871</td>\n",
       "      <td>1.0950</td>\n",
       "      <td>0.9053</td>\n",
       "      <td>8.589</td>\n",
       "      <td>153.40</td>\n",
       "      <td>0.006399</td>\n",
       "      <td>0.04904</td>\n",
       "      <td>0.05373</td>\n",
       "      <td>0.01587</td>\n",
       "      <td>0.03003</td>\n",
       "      <td>0.006193</td>\n",
       "    </tr>\n",
       "    <tr>\n",
       "      <th>1</th>\n",
       "      <td>20.57</td>\n",
       "      <td>17.77</td>\n",
       "      <td>132.90</td>\n",
       "      <td>1326.0</td>\n",
       "      <td>0.08474</td>\n",
       "      <td>0.07864</td>\n",
       "      <td>0.0869</td>\n",
       "      <td>0.07017</td>\n",
       "      <td>0.1812</td>\n",
       "      <td>0.05667</td>\n",
       "      <td>0.5435</td>\n",
       "      <td>0.7339</td>\n",
       "      <td>3.398</td>\n",
       "      <td>74.08</td>\n",
       "      <td>0.005225</td>\n",
       "      <td>0.01308</td>\n",
       "      <td>0.01860</td>\n",
       "      <td>0.01340</td>\n",
       "      <td>0.01389</td>\n",
       "      <td>0.003532</td>\n",
       "    </tr>\n",
       "    <tr>\n",
       "      <th>2</th>\n",
       "      <td>19.69</td>\n",
       "      <td>21.25</td>\n",
       "      <td>130.00</td>\n",
       "      <td>1203.0</td>\n",
       "      <td>0.10960</td>\n",
       "      <td>0.15990</td>\n",
       "      <td>0.1974</td>\n",
       "      <td>0.12790</td>\n",
       "      <td>0.2069</td>\n",
       "      <td>0.05999</td>\n",
       "      <td>0.7456</td>\n",
       "      <td>0.7869</td>\n",
       "      <td>4.585</td>\n",
       "      <td>94.03</td>\n",
       "      <td>0.006150</td>\n",
       "      <td>0.04006</td>\n",
       "      <td>0.03832</td>\n",
       "      <td>0.02058</td>\n",
       "      <td>0.02250</td>\n",
       "      <td>0.004571</td>\n",
       "    </tr>\n",
       "    <tr>\n",
       "      <th>3</th>\n",
       "      <td>11.42</td>\n",
       "      <td>20.38</td>\n",
       "      <td>77.58</td>\n",
       "      <td>386.1</td>\n",
       "      <td>0.14250</td>\n",
       "      <td>0.28390</td>\n",
       "      <td>0.2414</td>\n",
       "      <td>0.10520</td>\n",
       "      <td>0.2597</td>\n",
       "      <td>0.09744</td>\n",
       "      <td>0.4956</td>\n",
       "      <td>1.1560</td>\n",
       "      <td>3.445</td>\n",
       "      <td>27.23</td>\n",
       "      <td>0.009110</td>\n",
       "      <td>0.07458</td>\n",
       "      <td>0.05661</td>\n",
       "      <td>0.01867</td>\n",
       "      <td>0.05963</td>\n",
       "      <td>0.009208</td>\n",
       "    </tr>\n",
       "    <tr>\n",
       "      <th>4</th>\n",
       "      <td>20.29</td>\n",
       "      <td>14.34</td>\n",
       "      <td>135.10</td>\n",
       "      <td>1297.0</td>\n",
       "      <td>0.10030</td>\n",
       "      <td>0.13280</td>\n",
       "      <td>0.1980</td>\n",
       "      <td>0.10430</td>\n",
       "      <td>0.1809</td>\n",
       "      <td>0.05883</td>\n",
       "      <td>0.7572</td>\n",
       "      <td>0.7813</td>\n",
       "      <td>5.438</td>\n",
       "      <td>94.44</td>\n",
       "      <td>0.011490</td>\n",
       "      <td>0.02461</td>\n",
       "      <td>0.05688</td>\n",
       "      <td>0.01885</td>\n",
       "      <td>0.01756</td>\n",
       "      <td>0.005115</td>\n",
       "    </tr>\n",
       "  </tbody>\n",
       "</table>\n",
       "</div>"
      ],
      "text/plain": [
       "   radius_mean  texture_mean  perimeter_mean  area_mean  smoothness_mean  \\\n",
       "0        17.99         10.38          122.80     1001.0          0.11840   \n",
       "1        20.57         17.77          132.90     1326.0          0.08474   \n",
       "2        19.69         21.25          130.00     1203.0          0.10960   \n",
       "3        11.42         20.38           77.58      386.1          0.14250   \n",
       "4        20.29         14.34          135.10     1297.0          0.10030   \n",
       "\n",
       "   compactness_mean  concavity_mean  concave points_mean  symmetry_mean  \\\n",
       "0           0.27760          0.3001              0.14710         0.2419   \n",
       "1           0.07864          0.0869              0.07017         0.1812   \n",
       "2           0.15990          0.1974              0.12790         0.2069   \n",
       "3           0.28390          0.2414              0.10520         0.2597   \n",
       "4           0.13280          0.1980              0.10430         0.1809   \n",
       "\n",
       "   fractal_dimension_mean  radius_se  texture_se  perimeter_se  area_se  \\\n",
       "0                 0.07871     1.0950      0.9053         8.589   153.40   \n",
       "1                 0.05667     0.5435      0.7339         3.398    74.08   \n",
       "2                 0.05999     0.7456      0.7869         4.585    94.03   \n",
       "3                 0.09744     0.4956      1.1560         3.445    27.23   \n",
       "4                 0.05883     0.7572      0.7813         5.438    94.44   \n",
       "\n",
       "   smoothness_se  compactness_se  concavity_se  concave points_se  \\\n",
       "0       0.006399         0.04904       0.05373            0.01587   \n",
       "1       0.005225         0.01308       0.01860            0.01340   \n",
       "2       0.006150         0.04006       0.03832            0.02058   \n",
       "3       0.009110         0.07458       0.05661            0.01867   \n",
       "4       0.011490         0.02461       0.05688            0.01885   \n",
       "\n",
       "   symmetry_se  fractal_dimension_se  \n",
       "0      0.03003              0.006193  \n",
       "1      0.01389              0.003532  \n",
       "2      0.02250              0.004571  \n",
       "3      0.05963              0.009208  \n",
       "4      0.01756              0.005115  "
      ]
     },
     "execution_count": 12,
     "metadata": {},
     "output_type": "execute_result"
    }
   ],
   "source": [
    "y=data.diagnosis.values\n",
    "#x_data=data.drop(['id'], axis=0)\n",
    "x_data=data.drop(['diagnosis'], axis=1)\n",
    "x_data.head()"
   ]
  },
  {
   "cell_type": "code",
   "execution_count": 13,
   "id": "32254fc9",
   "metadata": {
    "execution": {
     "iopub.execute_input": "2021-11-12T12:48:09.147240Z",
     "iopub.status.busy": "2021-11-12T12:48:09.146212Z",
     "iopub.status.idle": "2021-11-12T12:48:12.282001Z",
     "shell.execute_reply": "2021-11-12T12:48:12.282598Z",
     "shell.execute_reply.started": "2021-11-12T12:46:47.261488Z"
    },
    "papermill": {
     "duration": 3.172702,
     "end_time": "2021-11-12T12:48:12.282795",
     "exception": false,
     "start_time": "2021-11-12T12:48:09.110093",
     "status": "completed"
    },
    "tags": []
   },
   "outputs": [
    {
     "data": {
      "image/png": "[encoded data removed]",
      "text/plain": [
       "<Figure size 1440x1440 with 2 Axes>"
      ]
     },
     "metadata": {
      "needs_background": "light"
     },
     "output_type": "display_data"
    }
   ],
   "source": [
    "import seaborn as sns # data visualization library  \n",
    "import matplotlib.pyplot as plt\n",
    "f,ax = plt.subplots(figsize=(20, 20))\n",
    "sns.heatmap(x_data.corr(), cmap=\"YlGnBu\",annot=True, linewidths=.5, fmt= '.1f',ax=ax)\n",
    "plt.savefig(\"heat_map\")"
   ]
  },
  {
   "cell_type": "code",
   "execution_count": 14,
   "id": "f188d90d",
   "metadata": {
    "execution": {
     "iopub.execute_input": "2021-11-12T12:48:12.357869Z",
     "iopub.status.busy": "2021-11-12T12:48:12.357270Z",
     "iopub.status.idle": "2021-11-12T12:48:12.360636Z",
     "shell.execute_reply": "2021-11-12T12:48:12.361130Z",
     "shell.execute_reply.started": "2021-11-12T12:46:50.418222Z"
    },
    "papermill": {
     "duration": 0.042445,
     "end_time": "2021-11-12T12:48:12.361290",
     "exception": false,
     "start_time": "2021-11-12T12:48:12.318845",
     "status": "completed"
    },
    "tags": []
   },
   "outputs": [],
   "source": [
    "#radius = data[['radius_mean','radius_se','radius_worst','diagnosis']]\n",
    "#sns.pairplot(radius, hue='diagnosis')\n",
    "#plt.savefig(\"radius\")"
   ]
  },
  {
   "cell_type": "code",
   "execution_count": 15,
   "id": "9a8481e7",
   "metadata": {
    "execution": {
     "iopub.execute_input": "2021-11-12T12:48:12.438173Z",
     "iopub.status.busy": "2021-11-12T12:48:12.437395Z",
     "iopub.status.idle": "2021-11-12T12:48:12.443192Z",
     "shell.execute_reply": "2021-11-12T12:48:12.442702Z",
     "shell.execute_reply.started": "2021-11-12T12:46:50.423921Z"
    },
    "papermill": {
     "duration": 0.046567,
     "end_time": "2021-11-12T12:48:12.443335",
     "exception": false,
     "start_time": "2021-11-12T12:48:12.396768",
     "status": "completed"
    },
    "tags": []
   },
   "outputs": [
    {
     "data": {
      "text/plain": [
       "<pandas.plotting._core.PlotAccessor object at 0x7f86cd5a26d0>"
      ]
     },
     "execution_count": 15,
     "metadata": {},
     "output_type": "execute_result"
    },
    {
     "data": {
      "text/plain": [
       "<Figure size 432x288 with 0 Axes>"
      ]
     },
     "metadata": {},
     "output_type": "display_data"
    }
   ],
   "source": [
    "plt.figure()\n",
    "data[\"diagnosis\"].plot"
   ]
  },
  {
   "cell_type": "code",
   "execution_count": 16,
   "id": "e093862c",
   "metadata": {
    "execution": {
     "iopub.execute_input": "2021-11-12T12:48:12.518478Z",
     "iopub.status.busy": "2021-11-12T12:48:12.517884Z",
     "iopub.status.idle": "2021-11-12T12:48:12.523779Z",
     "shell.execute_reply": "2021-11-12T12:48:12.524289Z",
     "shell.execute_reply.started": "2021-11-12T12:46:50.443936Z"
    },
    "papermill": {
     "duration": 0.04495,
     "end_time": "2021-11-12T12:48:12.524443",
     "exception": false,
     "start_time": "2021-11-12T12:48:12.479493",
     "status": "completed"
    },
    "tags": []
   },
   "outputs": [],
   "source": [
    "x_train,x_test,y_train,y_test=train_test_split(x_data,y,test_size=0.20, shuffle=True)"
   ]
  },
  {
   "cell_type": "code",
   "execution_count": 17,
   "id": "89eae565",
   "metadata": {
    "execution": {
     "iopub.execute_input": "2021-11-12T12:48:12.599746Z",
     "iopub.status.busy": "2021-11-12T12:48:12.599129Z",
     "iopub.status.idle": "2021-11-12T12:48:12.668083Z",
     "shell.execute_reply": "2021-11-12T12:48:12.669139Z",
     "shell.execute_reply.started": "2021-11-12T12:46:50.452484Z"
    },
    "papermill": {
     "duration": 0.108831,
     "end_time": "2021-11-12T12:48:12.669436",
     "exception": false,
     "start_time": "2021-11-12T12:48:12.560605",
     "status": "completed"
    },
    "tags": []
   },
   "outputs": [
    {
     "name": "stdout",
     "output_type": "stream",
     "text": [
      "Linear regression Train Accuracy : 70.91341081601286 %\n",
      "Mean Absolute Error= 0.2240344105223475\n",
      "Root Mean Squared Error= 0.07737530638376704\n",
      "[0.70762547 0.71592196 0.59983803 0.64823344 0.72756343]\n"
     ]
    }
   ],
   "source": [
    "model0=LinearRegression()\n",
    "model0.fit(x_train, y_train)\n",
    "y_pred=model0.predict(x_test)\n",
    "print(\"Linear regression Train Accuracy : {} %\".format(model0.score(x_train, y_train)*100))\n",
    "rmse=mean_squared_error(y_pred,y_test)\n",
    "mae=mean_absolute_error(y_test, y_pred)\n",
    "print(\"Mean Absolute Error=\", mae)\n",
    "print(\"Root Mean Squared Error=\", rmse)\n",
    "accuracy_score=cross_val_score(model0, x_train, y_train, scoring='r2')\n",
    "print(accuracy_score)\n",
    "results=[]\n",
    "names=[]\n",
    "results.append(accuracy_score)\n",
    "names.append('LinReg')\n"
   ]
  },
  {
   "cell_type": "code",
   "execution_count": 18,
   "id": "9ca8fea3",
   "metadata": {
    "execution": {
     "iopub.execute_input": "2021-11-12T12:48:12.777878Z",
     "iopub.status.busy": "2021-11-12T12:48:12.775064Z",
     "iopub.status.idle": "2021-11-12T12:48:12.787438Z",
     "shell.execute_reply": "2021-11-12T12:48:12.786848Z",
     "shell.execute_reply.started": "2021-11-12T12:46:50.533365Z"
    },
    "papermill": {
     "duration": 0.051348,
     "end_time": "2021-11-12T12:48:12.787561",
     "exception": false,
     "start_time": "2021-11-12T12:48:12.736213",
     "status": "completed"
    },
    "tags": []
   },
   "outputs": [
    {
     "data": {
      "text/plain": [
       "SGDClassifier()"
      ]
     },
     "execution_count": 18,
     "metadata": {},
     "output_type": "execute_result"
    }
   ],
   "source": [
    "#SDGClassifier\n",
    "model2=SGDClassifier()\n",
    "model2.fit(x_train, y_train)\n"
   ]
  },
  {
   "cell_type": "code",
   "execution_count": 19,
   "id": "65f814e4",
   "metadata": {
    "execution": {
     "iopub.execute_input": "2021-11-12T12:48:12.870649Z",
     "iopub.status.busy": "2021-11-12T12:48:12.870033Z",
     "iopub.status.idle": "2021-11-12T12:48:12.914766Z",
     "shell.execute_reply": "2021-11-12T12:48:12.915388Z",
     "shell.execute_reply.started": "2021-11-12T12:46:50.564230Z"
    },
    "papermill": {
     "duration": 0.090953,
     "end_time": "2021-11-12T12:48:12.915607",
     "exception": false,
     "start_time": "2021-11-12T12:48:12.824654",
     "status": "completed"
    },
    "tags": []
   },
   "outputs": [
    {
     "name": "stdout",
     "output_type": "stream",
     "text": [
      "SDG Train Accuracy : 83.95604395604396 %\n",
      "SDG Test Accuracy : 84.21052631578947 %\n",
      "Classification Report:\n",
      "              precision    recall  f1-score   support\n",
      "\n",
      "           0       0.90      0.82      0.86        67\n",
      "           1       0.77      0.87      0.82        47\n",
      "\n",
      "    accuracy                           0.84       114\n",
      "   macro avg       0.84      0.85      0.84       114\n",
      "weighted avg       0.85      0.84      0.84       114\n",
      "\n",
      "CONFUSION MATRIX\n",
      "[[55 12]\n",
      " [ 6 41]]\n"
     ]
    }
   ],
   "source": [
    "from sklearn.metrics import accuracy_score\n",
    "y_pred=model2.predict(x_test)\n",
    "conmat=confusion_matrix(y_test, y_pred)\n",
    "acc=cross_val_score(model2, x_train, y_train, scoring='accuracy')\n",
    "results.append(acc)\n",
    "names.append('SDG')\n",
    "print(\"SDG Train Accuracy : {} %\".format(model2.score(x_train, y_train)*100))\n",
    "print(\"SDG Test Accuracy : {} %\".format(model2.score(x_test, y_test)*100))\n",
    "print(\"Classification Report:\")\n",
    "print(classification_report(y_test, y_pred))\n",
    "\n",
    "#print(\"SDG regression Test Accuracy : {} %\".format(acc*100))\n",
    "#print(\"Mean Absolute Error=\", MAE)\n",
    "#print(\"Mean Squared Error=\", MSE)\n",
    "#print(\"Root Mean Squared Error=\", RMSE)\n",
    "#print(\"R2 score=\", r2)\n",
    "print(\"CONFUSION MATRIX\")\n",
    "print(conmat)"
   ]
  },
  {
   "cell_type": "code",
   "execution_count": 20,
   "id": "e3b9d6a2",
   "metadata": {
    "execution": {
     "iopub.execute_input": "2021-11-12T12:48:12.996721Z",
     "iopub.status.busy": "2021-11-12T12:48:12.996103Z",
     "iopub.status.idle": "2021-11-12T12:48:13.004970Z",
     "shell.execute_reply": "2021-11-12T12:48:13.005526Z",
     "shell.execute_reply.started": "2021-11-12T12:46:50.628153Z"
    },
    "papermill": {
     "duration": 0.052082,
     "end_time": "2021-11-12T12:48:13.005677",
     "exception": false,
     "start_time": "2021-11-12T12:48:12.953595",
     "status": "completed"
    },
    "tags": []
   },
   "outputs": [
    {
     "data": {
      "text/plain": [
       "SVC()"
      ]
     },
     "execution_count": 20,
     "metadata": {},
     "output_type": "execute_result"
    }
   ],
   "source": [
    "model3=SVC()\n",
    "model3.fit(x_train, y_train)"
   ]
  },
  {
   "cell_type": "code",
   "execution_count": 21,
   "id": "a84e53ce",
   "metadata": {
    "execution": {
     "iopub.execute_input": "2021-11-12T12:48:13.086539Z",
     "iopub.status.busy": "2021-11-12T12:48:13.085958Z",
     "iopub.status.idle": "2021-11-12T12:48:13.148192Z",
     "shell.execute_reply": "2021-11-12T12:48:13.148646Z",
     "shell.execute_reply.started": "2021-11-12T12:46:50.644841Z"
    },
    "papermill": {
     "duration": 0.102565,
     "end_time": "2021-11-12T12:48:13.148825",
     "exception": false,
     "start_time": "2021-11-12T12:48:13.046260",
     "status": "completed"
    },
    "tags": []
   },
   "outputs": [
    {
     "name": "stdout",
     "output_type": "stream",
     "text": [
      "SVM Train Accuracy : 89.45054945054946 %\n",
      "SVM Test Accuracy : 88.59649122807018 %\n",
      "              precision    recall  f1-score   support\n",
      "\n",
      "           0       0.97      0.86      0.91        76\n",
      "           1       0.77      0.95      0.85        38\n",
      "\n",
      "    accuracy                           0.89       114\n",
      "   macro avg       0.87      0.90      0.88       114\n",
      "weighted avg       0.90      0.89      0.89       114\n",
      "\n",
      "[0.89010989 0.89010989 0.91208791 0.82417582 0.94505495]\n",
      "[array([0.70762547, 0.71592196, 0.59983803, 0.64823344, 0.72756343]), array([0.84615385, 0.89010989, 0.89010989, 0.81318681, 0.71428571]), array([0.89010989, 0.89010989, 0.91208791, 0.82417582, 0.94505495])]\n",
      "['LinReg', 'SDG', 'SVM']\n"
     ]
    }
   ],
   "source": [
    "y_pred=model3.predict(x_test)\n",
    "accuracy_score=model3.score(x_test, y_test)\n",
    "#confusion_mat=model.confusion_matrix()\n",
    "print(\"SVM Train Accuracy : {} %\".format(model3.score(x_train, y_train)*100))\n",
    "print(\"SVM Test Accuracy : {} %\".format(accuracy_score*100))\n",
    "#print(\"Classification report:\")\n",
    "print(classification_report(y_pred, y_test))\n",
    "cv_results = cross_val_score(model3, x_train, y_train, scoring='accuracy')\n",
    "results.append(cv_results)\n",
    "names.append('SVM')\n",
    "print(cv_results)\n",
    "print(results)\n",
    "print(names)"
   ]
  },
  {
   "cell_type": "code",
   "execution_count": 22,
   "id": "11b1c623",
   "metadata": {
    "execution": {
     "iopub.execute_input": "2021-11-12T12:48:13.228419Z",
     "iopub.status.busy": "2021-11-12T12:48:13.227819Z",
     "iopub.status.idle": "2021-11-12T12:48:13.240994Z",
     "shell.execute_reply": "2021-11-12T12:48:13.241530Z",
     "shell.execute_reply.started": "2021-11-12T12:46:50.716740Z"
    },
    "papermill": {
     "duration": 0.054762,
     "end_time": "2021-11-12T12:48:13.241681",
     "exception": false,
     "start_time": "2021-11-12T12:48:13.186919",
     "status": "completed"
    },
    "tags": []
   },
   "outputs": [
    {
     "data": {
      "text/plain": [
       "DecisionTreeClassifier()"
      ]
     },
     "execution_count": 22,
     "metadata": {},
     "output_type": "execute_result"
    }
   ],
   "source": [
    "model5=DecisionTreeClassifier()\n",
    "model5.fit(x_train, y_train)\n"
   ]
  },
  {
   "cell_type": "code",
   "execution_count": 23,
   "id": "addb467a",
   "metadata": {
    "execution": {
     "iopub.execute_input": "2021-11-12T12:48:13.322227Z",
     "iopub.status.busy": "2021-11-12T12:48:13.321271Z",
     "iopub.status.idle": "2021-11-12T12:48:13.373085Z",
     "shell.execute_reply": "2021-11-12T12:48:13.373602Z",
     "shell.execute_reply.started": "2021-11-12T12:46:50.734061Z"
    },
    "papermill": {
     "duration": 0.093687,
     "end_time": "2021-11-12T12:48:13.373779",
     "exception": false,
     "start_time": "2021-11-12T12:48:13.280092",
     "status": "completed"
    },
    "tags": []
   },
   "outputs": [
    {
     "name": "stdout",
     "output_type": "stream",
     "text": [
      "Test Accuracy: 0.9210526315789473\n",
      "Train Accuracy: 1.0\n",
      "classification report:\n",
      "              precision    recall  f1-score   support\n",
      "\n",
      "           0       0.97      0.86      0.91        76\n",
      "           1       0.77      0.95      0.85        38\n",
      "\n",
      "    accuracy                           0.89       114\n",
      "   macro avg       0.87      0.90      0.88       114\n",
      "weighted avg       0.90      0.89      0.89       114\n",
      "\n",
      "[[65  2]\n",
      " [11 36]]\n"
     ]
    }
   ],
   "source": [
    "#y_pred=model5.predict(x_test, y_test)\n",
    "print(\"Test Accuracy:\", model5.score(x_test, y_test))\n",
    "print(\"Train Accuracy:\", model5.score(x_train, y_train))\n",
    "print(\"classification report:\")\n",
    "print(classification_report(y_pred, y_test))\n",
    "cv=cross_val_score(model5, x_train, y_train, scoring=\"accuracy\")\n",
    "names.append(\"Tree\")\n",
    "results.append(cv)\n",
    "print(confusion_matrix(y_test, y_pred))"
   ]
  },
  {
   "cell_type": "code",
   "execution_count": 24,
   "id": "a3792986",
   "metadata": {
    "execution": {
     "iopub.execute_input": "2021-11-12T12:48:13.454587Z",
     "iopub.status.busy": "2021-11-12T12:48:13.453992Z",
     "iopub.status.idle": "2021-11-12T12:48:14.880893Z",
     "shell.execute_reply": "2021-11-12T12:48:14.880368Z",
     "shell.execute_reply.started": "2021-11-12T12:46:50.793834Z"
    },
    "papermill": {
     "duration": 1.468288,
     "end_time": "2021-11-12T12:48:14.881044",
     "exception": false,
     "start_time": "2021-11-12T12:48:13.412756",
     "status": "completed"
    },
    "tags": []
   },
   "outputs": [
    {
     "name": "stdout",
     "output_type": "stream",
     "text": [
      "Train accuracy: 100.0\n",
      "Test accuracy: 96.49122807017544\n",
      "classification report:\n",
      "              precision    recall  f1-score   support\n",
      "\n",
      "           0       0.99      0.96      0.97        69\n",
      "           1       0.94      0.98      0.96        45\n",
      "\n",
      "    accuracy                           0.96       114\n",
      "   macro avg       0.96      0.97      0.96       114\n",
      "weighted avg       0.97      0.96      0.97       114\n",
      "\n",
      "[[66  1]\n",
      " [ 3 44]]\n"
     ]
    }
   ],
   "source": [
    "model6=RandomForestClassifier()\n",
    "model6.fit(x_train, y_train)\n",
    "y_pred=model6.predict(x_test)\n",
    "print(\"Train accuracy:\", model6.score(x_train, y_train)*100)\n",
    "print(\"Test accuracy:\", model6.score(x_test, y_test)*100) \n",
    "print(\"classification report:\")\n",
    "print(classification_report(y_pred, y_test))\n",
    "cv=cross_val_score(model6, x_train, y_train, scoring=\"accuracy\")\n",
    "results.append(cv)\n",
    "names.append(\"RandFor\")\n",
    "print(confusion_matrix(y_test, y_pred))"
   ]
  },
  {
   "cell_type": "code",
   "execution_count": 25,
   "id": "46ba4eae",
   "metadata": {
    "execution": {
     "iopub.execute_input": "2021-11-12T12:48:14.966270Z",
     "iopub.status.busy": "2021-11-12T12:48:14.965345Z",
     "iopub.status.idle": "2021-11-12T12:48:15.808280Z",
     "shell.execute_reply": "2021-11-12T12:48:15.808711Z",
     "shell.execute_reply.started": "2021-11-12T12:46:52.274594Z"
    },
    "papermill": {
     "duration": 0.88657,
     "end_time": "2021-11-12T12:48:15.808911",
     "exception": false,
     "start_time": "2021-11-12T12:48:14.922341",
     "status": "completed"
    },
    "tags": []
   },
   "outputs": [
    {
     "name": "stdout",
     "output_type": "stream",
     "text": [
      "Train Acc: 100.0\n",
      "Test Acc: 93.85964912280701\n",
      "classification report:\n",
      "              precision    recall  f1-score   support\n",
      "\n",
      "           0       0.96      0.94      0.95        68\n",
      "           1       0.91      0.93      0.92        46\n",
      "\n",
      "    accuracy                           0.94       114\n",
      "   macro avg       0.94      0.94      0.94       114\n",
      "weighted avg       0.94      0.94      0.94       114\n",
      "\n",
      "[[64  3]\n",
      " [ 4 43]]\n"
     ]
    }
   ],
   "source": [
    "mdl7=AdaBoostClassifier()\n",
    "mdl7.fit(x_train, y_train)\n",
    "y_pred=mdl7.predict(x_test)\n",
    "print(\"Train Acc:\", mdl7.score(x_train, y_train)*100)\n",
    "print(\"Test Acc:\", mdl7.score(x_test, y_test)*100)\n",
    "print(\"classification report:\")\n",
    "print(classification_report(y_pred, y_test))\n",
    "cv=cross_val_score(mdl7, x_train, y_train, scoring=\"accuracy\")\n",
    "results.append(cv)\n",
    "names.append(\"AdaBoost\")\n",
    "print(confusion_matrix(y_test, y_pred))"
   ]
  },
  {
   "cell_type": "code",
   "execution_count": 26,
   "id": "54f9624e",
   "metadata": {
    "execution": {
     "iopub.execute_input": "2021-11-12T12:48:15.899638Z",
     "iopub.status.busy": "2021-11-12T12:48:15.898682Z",
     "iopub.status.idle": "2021-11-12T12:48:17.468651Z",
     "shell.execute_reply": "2021-11-12T12:48:17.469388Z",
     "shell.execute_reply.started": "2021-11-12T12:46:53.158411Z"
    },
    "papermill": {
     "duration": 1.619915,
     "end_time": "2021-11-12T12:48:17.469626",
     "exception": false,
     "start_time": "2021-11-12T12:48:15.849711",
     "status": "completed"
    },
    "tags": []
   },
   "outputs": [
    {
     "name": "stdout",
     "output_type": "stream",
     "text": [
      "Train Acc: 100.0\n",
      "Test Acc: 96.49122807017544\n",
      "classification report:\n",
      "              precision    recall  f1-score   support\n",
      "\n",
      "           0       0.97      0.97      0.97        67\n",
      "           1       0.96      0.96      0.96        47\n",
      "\n",
      "    accuracy                           0.96       114\n",
      "   macro avg       0.96      0.96      0.96       114\n",
      "weighted avg       0.96      0.96      0.96       114\n",
      "\n",
      "confusion matrix:\n",
      "[[65  2]\n",
      " [ 2 45]]\n"
     ]
    }
   ],
   "source": [
    "mdl8=GradientBoostingClassifier()\n",
    "mdl8.fit(x_train, y_train)\n",
    "y_pred=mdl8.predict(x_test)\n",
    "print(\"Train Acc:\", mdl8.score(x_train, y_train)*100)\n",
    "print(\"Test Acc:\", mdl8.score(x_test, y_test)*100)\n",
    "print(\"classification report:\")\n",
    "print(classification_report(y_pred, y_test))\n",
    "cv=cross_val_score(mdl8, x_train, y_train, scoring=\"accuracy\")\n",
    "results.append(cv)\n",
    "names.append(\"GBoost\")\n",
    "print(\"confusion matrix:\")\n",
    "print(confusion_matrix(y_test, y_pred))"
   ]
  },
  {
   "cell_type": "code",
   "execution_count": 27,
   "id": "9db849c7",
   "metadata": {
    "execution": {
     "iopub.execute_input": "2021-11-12T12:48:17.557952Z",
     "iopub.status.busy": "2021-11-12T12:48:17.557340Z",
     "iopub.status.idle": "2021-11-12T12:48:17.597972Z",
     "shell.execute_reply": "2021-11-12T12:48:17.599388Z",
     "shell.execute_reply.started": "2021-11-12T12:46:54.790689Z"
    },
    "papermill": {
     "duration": 0.087576,
     "end_time": "2021-11-12T12:48:17.599671",
     "exception": false,
     "start_time": "2021-11-12T12:48:17.512095",
     "status": "completed"
    },
    "tags": []
   },
   "outputs": [
    {
     "name": "stdout",
     "output_type": "stream",
     "text": [
      "Train acc: 91.64835164835165\n",
      "Test acc: 91.22807017543859\n",
      "              precision    recall  f1-score   support\n",
      "\n",
      "           0       0.97      0.89      0.93        73\n",
      "           1       0.83      0.95      0.89        41\n",
      "\n",
      "    accuracy                           0.91       114\n",
      "   macro avg       0.90      0.92      0.91       114\n",
      "weighted avg       0.92      0.91      0.91       114\n",
      "\n",
      "[[65  2]\n",
      " [ 8 39]]\n"
     ]
    }
   ],
   "source": [
    "mdl9=GaussianNB()\n",
    "mdl9.fit(x_train, y_train)\n",
    "y_pred=mdl9.predict(x_test)\n",
    "print(\"Train acc:\", mdl9.score(x_train, y_train)*100)\n",
    "print(\"Test acc:\", mdl9.score(x_test, y_test)*100)\n",
    "print(classification_report(y_pred, y_test))\n",
    "print(confusion_matrix(y_test, y_pred))\n",
    "cv=cross_val_score(mdl9, x_train, y_train, scoring=\"accuracy\")\n",
    "results.append(cv)\n",
    "names.append(\"GNB\")"
   ]
  },
  {
   "cell_type": "code",
   "execution_count": 28,
   "id": "65530c33",
   "metadata": {
    "execution": {
     "iopub.execute_input": "2021-11-12T12:48:17.691817Z",
     "iopub.status.busy": "2021-11-12T12:48:17.691218Z",
     "iopub.status.idle": "2021-11-12T12:48:17.731433Z",
     "shell.execute_reply": "2021-11-12T12:48:17.731948Z",
     "shell.execute_reply.started": "2021-11-12T12:46:54.838753Z"
    },
    "papermill": {
     "duration": 0.08965,
     "end_time": "2021-11-12T12:48:17.732118",
     "exception": false,
     "start_time": "2021-11-12T12:48:17.642468",
     "status": "completed"
    },
    "tags": []
   },
   "outputs": [
    {
     "name": "stdout",
     "output_type": "stream",
     "text": [
      "Train acc: 63.73626373626373\n",
      "Test acc: 58.77192982456141\n",
      "              precision    recall  f1-score   support\n",
      "\n",
      "           0       1.00      0.59      0.74       114\n",
      "           1       0.00      0.00      0.00         0\n",
      "\n",
      "    accuracy                           0.59       114\n",
      "   macro avg       0.50      0.29      0.37       114\n",
      "weighted avg       1.00      0.59      0.74       114\n",
      "\n",
      "[[67  0]\n",
      " [47  0]]\n"
     ]
    },
    {
     "name": "stderr",
     "output_type": "stream",
     "text": [
      "/opt/conda/lib/python3.7/site-packages/sklearn/metrics/_classification.py:1221: UndefinedMetricWarning: Recall and F-score are ill-defined and being set to 0.0 in labels with no true samples. Use `zero_division` parameter to control this behavior.\n",
      "  _warn_prf(average, modifier, msg_start, len(result))\n"
     ]
    }
   ],
   "source": [
    "mdl10=BernoulliNB() \n",
    "mdl10.fit(x_train, y_train) \n",
    "y_pred=mdl10.predict(x_test) \n",
    "print(\"Train acc:\", mdl10.score(x_train, y_train)*100) \n",
    "print(\"Test acc:\", mdl10.score(x_test, y_test)*100) \n",
    "print(classification_report(y_pred, y_test)) \n",
    "print(confusion_matrix(y_test, y_pred)) \n",
    "cv=cross_val_score(mdl10, x_train, y_train, scoring=\"accuracy\") \n",
    "results.append(cv) \n",
    "names.append(\"BernoulliNB\")"
   ]
  },
  {
   "cell_type": "code",
   "execution_count": 29,
   "id": "566e913e",
   "metadata": {
    "execution": {
     "iopub.execute_input": "2021-11-12T12:48:17.819154Z",
     "iopub.status.busy": "2021-11-12T12:48:17.818509Z",
     "iopub.status.idle": "2021-11-12T12:48:17.859699Z",
     "shell.execute_reply": "2021-11-12T12:48:17.858973Z",
     "shell.execute_reply.started": "2021-11-12T12:46:54.889588Z"
    },
    "papermill": {
     "duration": 0.0859,
     "end_time": "2021-11-12T12:48:17.859900",
     "exception": false,
     "start_time": "2021-11-12T12:48:17.774000",
     "status": "completed"
    },
    "tags": []
   },
   "outputs": [
    {
     "name": "stdout",
     "output_type": "stream",
     "text": [
      "Train acc: 87.25274725274726\n",
      "Test acc: 86.8421052631579\n",
      "              precision    recall  f1-score   support\n",
      "\n",
      "           0       0.97      0.83      0.90        78\n",
      "           1       0.72      0.94      0.82        36\n",
      "\n",
      "    accuracy                           0.87       114\n",
      "   macro avg       0.85      0.89      0.86       114\n",
      "weighted avg       0.89      0.87      0.87       114\n",
      "\n",
      "[[65  2]\n",
      " [13 34]]\n"
     ]
    }
   ],
   "source": [
    "mdl11=ComplementNB() \n",
    "mdl11.fit(x_train, y_train) \n",
    "y_pred=mdl11.predict(x_test) \n",
    "print(\"Train acc:\", mdl11.score(x_train, y_train)*100) \n",
    "print(\"Test acc:\", mdl11.score(x_test, y_test)*100) \n",
    "print(classification_report(y_pred, y_test)) \n",
    "print(confusion_matrix(y_test, y_pred)) \n",
    "cv=cross_val_score(mdl11, x_train, y_train, scoring=\"accuracy\") \n",
    "results.append(cv) \n",
    "names.append(\"ComplementNB\")"
   ]
  },
  {
   "cell_type": "code",
   "execution_count": 30,
   "id": "f61cdce3",
   "metadata": {
    "execution": {
     "iopub.execute_input": "2021-11-12T12:48:17.950246Z",
     "iopub.status.busy": "2021-11-12T12:48:17.949347Z",
     "iopub.status.idle": "2021-11-12T12:48:17.988377Z",
     "shell.execute_reply": "2021-11-12T12:48:17.988822Z",
     "shell.execute_reply.started": "2021-11-12T12:46:54.938845Z"
    },
    "papermill": {
     "duration": 0.085618,
     "end_time": "2021-11-12T12:48:17.988987",
     "exception": false,
     "start_time": "2021-11-12T12:48:17.903369",
     "status": "completed"
    },
    "tags": []
   },
   "outputs": [
    {
     "name": "stdout",
     "output_type": "stream",
     "text": [
      "Train acc: 87.03296703296704\n",
      "Test acc: 86.8421052631579\n",
      "              precision    recall  f1-score   support\n",
      "\n",
      "           0       0.97      0.83      0.90        78\n",
      "           1       0.72      0.94      0.82        36\n",
      "\n",
      "    accuracy                           0.87       114\n",
      "   macro avg       0.85      0.89      0.86       114\n",
      "weighted avg       0.89      0.87      0.87       114\n",
      "\n",
      "[[65  2]\n",
      " [13 34]]\n"
     ]
    }
   ],
   "source": [
    "mdl12=MultinomialNB() \n",
    "mdl12.fit(x_train, y_train) \n",
    "y_pred=mdl11.predict(x_test) \n",
    "print(\"Train acc:\", mdl12.score(x_train, y_train)*100) \n",
    "print(\"Test acc:\", mdl12.score(x_test, y_test)*100) \n",
    "print(classification_report(y_pred, y_test)) \n",
    "print(confusion_matrix(y_test, y_pred)) \n",
    "cv=cross_val_score(mdl11, x_train, y_train, scoring=\"accuracy\") \n",
    "results.append(cv) \n",
    "names.append(\"MultiNB\")"
   ]
  },
  {
   "cell_type": "code",
   "execution_count": 31,
   "id": "559d588c",
   "metadata": {
    "execution": {
     "iopub.execute_input": "2021-11-12T12:48:18.078307Z",
     "iopub.status.busy": "2021-11-12T12:48:18.077347Z",
     "iopub.status.idle": "2021-11-12T12:48:18.489802Z",
     "shell.execute_reply": "2021-11-12T12:48:18.490288Z",
     "shell.execute_reply.started": "2021-11-12T12:47:45.372411Z"
    },
    "papermill": {
     "duration": 0.45866,
     "end_time": "2021-11-12T12:48:18.490452",
     "exception": false,
     "start_time": "2021-11-12T12:48:18.031792",
     "status": "completed"
    },
    "tags": []
   },
   "outputs": [
    {
     "data": {
      "image/png": "[encoded data removed]",
      "text/plain": [
       "<Figure size 2880x720 with 1 Axes>"
      ]
     },
     "metadata": {
      "needs_background": "light"
     },
     "output_type": "display_data"
    },
    {
     "data": {
      "text/plain": [
       "<Figure size 432x288 with 0 Axes>"
      ]
     },
     "metadata": {},
     "output_type": "display_data"
    }
   ],
   "source": [
    "fig = plt.figure(figsize=(40,10))\n",
    "fig.suptitle('Performance Comparison', fontsize=70)\n",
    "ax = fig.add_subplot(111)\n",
    "plt.boxplot(results)\n",
    "ax.set_xticklabels(names, fontsize=32)\n",
    "\n",
    "plt.show()\n",
    "plt.savefig(\"performance\")\n"
   ]
  },
  {
   "cell_type": "code",
   "execution_count": null,
   "id": "38a06102",
   "metadata": {
    "papermill": {
     "duration": 0.045253,
     "end_time": "2021-11-12T12:48:18.580939",
     "exception": false,
     "start_time": "2021-11-12T12:48:18.535686",
     "status": "completed"
    },
    "tags": []
   },
   "outputs": [],
   "source": []
  },
  {
   "cell_type": "code",
   "execution_count": null,
   "id": "295abba4",
   "metadata": {
    "papermill": {
     "duration": 0.045262,
     "end_time": "2021-11-12T12:48:18.671329",
     "exception": false,
     "start_time": "2021-11-12T12:48:18.626067",
     "status": "completed"
    },
    "tags": []
   },
   "outputs": [],
   "source": []
  }
 ],
 "metadata": {
  "kernelspec": {
   "display_name": "Python 3",
   "language": "python",
   "name": "python3"
  },
  "language_info": {
   "codemirror_mode": {
    "name": "ipython",
    "version": 3
   },
   "file_extension": ".py",
   "mimetype": "text/x-python",
   "name": "python",
   "nbconvert_exporter": "python",
   "pygments_lexer": "ipython3",
   "version": "3.7.10"
  },
  "papermill": {
   "default_parameters": {},
   "duration": 20.70587,
   "end_time": "2021-11-12T12:48:20.230811",
   "environment_variables": {},
   "exception": null,
   "input_path": "__notebook__.ipynb",
   "output_path": "__notebook__.ipynb",
   "parameters": {},
   "start_time": "2021-11-12T12:47:59.524941",
   "version": "2.3.3"
  }
 },
 "nbformat": 4,
 "nbformat_minor": 5
}
