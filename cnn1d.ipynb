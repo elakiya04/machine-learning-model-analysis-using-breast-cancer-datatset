{
 "cells": [
  {
   "cell_type": "code",
   "execution_count": 1,
   "id": "pleased-dragon",
   "metadata": {
    "_cell_guid": "b1076dfc-b9ad-4769-8c92-a6c4dae69d19",
    "_uuid": "8f2839f25d086af736a60e9eeb907d3b93b6e0e5",
    "execution": {
     "iopub.execute_input": "2021-09-12T14:38:43.932772Z",
     "iopub.status.busy": "2021-09-12T14:38:43.931629Z",
     "iopub.status.idle": "2021-09-12T14:38:43.957289Z",
     "shell.execute_reply": "2021-09-12T14:38:43.958036Z",
     "shell.execute_reply.started": "2021-09-12T13:57:14.295713Z"
    },
    "papermill": {
     "duration": 0.045761,
     "end_time": "2021-09-12T14:38:43.958439",
     "exception": false,
     "start_time": "2021-09-12T14:38:43.912678",
     "status": "completed"
    },
    "tags": []
   },
   "outputs": [
    {
     "name": "stdout",
     "output_type": "stream",
     "text": [
      "/kaggle/input/breast-cancer-wisconsin-data/data.csv\n"
     ]
    }
   ],
   "source": [
    "# This Python 3 environment comes with many helpful analytics libraries installed\n",
    "# It is defined by the kaggle/python Docker image: https://github.com/kaggle/docker-python\n",
    "# For example, here's several helpful packages to load\n",
    "\n",
    "import numpy as np # linear algebra\n",
    "import pandas as pd # data processing, CSV file I/O (e.g. pd.read_csv)\n",
    "\n",
    "# Input data files are available in the read-only \"../input/\" directory\n",
    "# For example, running this (by clicking run or pressing Shift+Enter) will list all files under the input directory\n",
    "\n",
    "import os\n",
    "for dirname, _, filenames in os.walk('/kaggle/input'):\n",
    "    for filename in filenames:\n",
    "        print(os.path.join(dirname, filename))\n",
    "\n",
    "# You can write up to 20GB to the current directory (/kaggle/working/) that gets preserved as output when you create a version using \"Save & Run All\" \n",
    "# You can also write temporary files to /kaggle/temp/, but they won't be saved outside of the current session"
   ]
  },
  {
   "cell_type": "code",
   "execution_count": 2,
   "id": "pressing-damage",
   "metadata": {
    "execution": {
     "iopub.execute_input": "2021-09-12T14:38:44.008085Z",
     "iopub.status.busy": "2021-09-12T14:38:44.006886Z",
     "iopub.status.idle": "2021-09-12T14:38:51.061240Z",
     "shell.execute_reply": "2021-09-12T14:38:51.060646Z",
     "shell.execute_reply.started": "2021-09-12T13:57:14.317192Z"
    },
    "papermill": {
     "duration": 7.082877,
     "end_time": "2021-09-12T14:38:51.061449",
     "exception": false,
     "start_time": "2021-09-12T14:38:43.978572",
     "status": "completed"
    },
    "tags": []
   },
   "outputs": [
    {
     "name": "stdout",
     "output_type": "stream",
     "text": [
      "2.4.1\n"
     ]
    }
   ],
   "source": [
    "import tensorflow as tf\n",
    "from tensorflow import keras\n",
    "from tensorflow.keras import Sequential\n",
    "from tensorflow.keras.layers import Conv1D,Dropout,BatchNormalization, Flatten, Dense, MaxPool1D\n",
    "from tensorflow.keras.preprocessing.image import ImageDataGenerator\n",
    "from tensorflow.keras.optimizers import Adam\n",
    "print(tf.__version__)\n",
    "\n",
    "import pandas as pd\n",
    "import numpy as np\n",
    "import matplotlib.pyplot as plt\n",
    "import seaborn as sns\n",
    "\n",
    "from sklearn import datasets,metrics\n",
    "from sklearn.model_selection import train_test_split\n",
    "from sklearn.preprocessing import StandardScaler"
   ]
  },
  {
   "cell_type": "code",
   "execution_count": 3,
   "id": "black-bicycle",
   "metadata": {
    "execution": {
     "iopub.execute_input": "2021-09-12T14:38:51.099252Z",
     "iopub.status.busy": "2021-09-12T14:38:51.098572Z",
     "iopub.status.idle": "2021-09-12T14:38:51.154589Z",
     "shell.execute_reply": "2021-09-12T14:38:51.153934Z",
     "shell.execute_reply.started": "2021-09-12T13:58:50.334339Z"
    },
    "papermill": {
     "duration": 0.077365,
     "end_time": "2021-09-12T14:38:51.154749",
     "exception": false,
     "start_time": "2021-09-12T14:38:51.077384",
     "status": "completed"
    },
    "tags": []
   },
   "outputs": [],
   "source": [
    "\n",
    "cancer=datasets.load_breast_cancer()\n",
    "#print(cancer.DESCR)\n",
    "from sklearn.utils import shuffle \n",
    "data=pd.read_csv(\"../input/breast-cancer-wisconsin-data/data.csv\")\n",
    "data=shuffle(data, random_state=0)"
   ]
  },
  {
   "cell_type": "code",
   "execution_count": 4,
   "id": "incoming-convergence",
   "metadata": {
    "execution": {
     "iopub.execute_input": "2021-09-12T14:38:51.193935Z",
     "iopub.status.busy": "2021-09-12T14:38:51.193196Z",
     "iopub.status.idle": "2021-09-12T14:38:51.195224Z",
     "shell.execute_reply": "2021-09-12T14:38:51.195827Z",
     "shell.execute_reply.started": "2021-09-12T13:58:51.672879Z"
    },
    "papermill": {
     "duration": 0.026383,
     "end_time": "2021-09-12T14:38:51.195997",
     "exception": false,
     "start_time": "2021-09-12T14:38:51.169614",
     "status": "completed"
    },
    "tags": []
   },
   "outputs": [],
   "source": [
    "q=['radius_worst', 'texture_worst', 'perimeter_worst', 'area_worst', 'smoothness_worst', \n",
    "   'compactness_worst', 'concavity_worst', 'concave points_worst', 'symmetry_worst', \n",
    "   'fractal_dimension_worst']\n",
    "data=data.drop(q, axis=1)"
   ]
  },
  {
   "cell_type": "code",
   "execution_count": 5,
   "id": "aerial-transportation",
   "metadata": {
    "execution": {
     "iopub.execute_input": "2021-09-12T14:38:51.229633Z",
     "iopub.status.busy": "2021-09-12T14:38:51.228914Z",
     "iopub.status.idle": "2021-09-12T14:38:51.236291Z",
     "shell.execute_reply": "2021-09-12T14:38:51.235739Z",
     "shell.execute_reply.started": "2021-09-12T13:58:53.651847Z"
    },
    "papermill": {
     "duration": 0.025702,
     "end_time": "2021-09-12T14:38:51.236443",
     "exception": false,
     "start_time": "2021-09-12T14:38:51.210741",
     "status": "completed"
    },
    "tags": []
   },
   "outputs": [],
   "source": [
    "data=data.drop(['Unnamed: 32', 'id'], axis = 1)"
   ]
  },
  {
   "cell_type": "code",
   "execution_count": 6,
   "id": "previous-square",
   "metadata": {
    "execution": {
     "iopub.execute_input": "2021-09-12T14:38:51.269934Z",
     "iopub.status.busy": "2021-09-12T14:38:51.268940Z",
     "iopub.status.idle": "2021-09-12T14:38:51.274603Z",
     "shell.execute_reply": "2021-09-12T14:38:51.275085Z",
     "shell.execute_reply.started": "2021-09-12T13:59:08.819344Z"
    },
    "papermill": {
     "duration": 0.024052,
     "end_time": "2021-09-12T14:38:51.275255",
     "exception": false,
     "start_time": "2021-09-12T14:38:51.251203",
     "status": "completed"
    },
    "tags": []
   },
   "outputs": [],
   "source": [
    "from sklearn.preprocessing import LabelEncoder\n",
    "label=LabelEncoder()\n",
    "data['diagnosis']=label.fit_transform(data[\"diagnosis\"])"
   ]
  },
  {
   "cell_type": "code",
   "execution_count": 7,
   "id": "indie-orientation",
   "metadata": {
    "execution": {
     "iopub.execute_input": "2021-09-12T14:38:51.308757Z",
     "iopub.status.busy": "2021-09-12T14:38:51.307782Z",
     "iopub.status.idle": "2021-09-12T14:38:51.345745Z",
     "shell.execute_reply": "2021-09-12T14:38:51.346268Z",
     "shell.execute_reply.started": "2021-09-12T13:59:26.970309Z"
    },
    "papermill": {
     "duration": 0.05648,
     "end_time": "2021-09-12T14:38:51.346450",
     "exception": false,
     "start_time": "2021-09-12T14:38:51.289970",
     "status": "completed"
    },
    "tags": []
   },
   "outputs": [
    {
     "data": {
      "text/html": [
       "<div>\n",
       "<style scoped>\n",
       "    .dataframe tbody tr th:only-of-type {\n",
       "        vertical-align: middle;\n",
       "    }\n",
       "\n",
       "    .dataframe tbody tr th {\n",
       "        vertical-align: top;\n",
       "    }\n",
       "\n",
       "    .dataframe thead th {\n",
       "        text-align: right;\n",
       "    }\n",
       "</style>\n",
       "<table border=\"1\" class=\"dataframe\">\n",
       "  <thead>\n",
       "    <tr style=\"text-align: right;\">\n",
       "      <th></th>\n",
       "      <th>radius_mean</th>\n",
       "      <th>texture_mean</th>\n",
       "      <th>perimeter_mean</th>\n",
       "      <th>area_mean</th>\n",
       "      <th>smoothness_mean</th>\n",
       "      <th>compactness_mean</th>\n",
       "      <th>concavity_mean</th>\n",
       "      <th>concave points_mean</th>\n",
       "      <th>symmetry_mean</th>\n",
       "      <th>fractal_dimension_mean</th>\n",
       "      <th>radius_se</th>\n",
       "      <th>texture_se</th>\n",
       "      <th>perimeter_se</th>\n",
       "      <th>area_se</th>\n",
       "      <th>smoothness_se</th>\n",
       "      <th>compactness_se</th>\n",
       "      <th>concavity_se</th>\n",
       "      <th>concave points_se</th>\n",
       "      <th>symmetry_se</th>\n",
       "      <th>fractal_dimension_se</th>\n",
       "    </tr>\n",
       "  </thead>\n",
       "  <tbody>\n",
       "    <tr>\n",
       "      <th>512</th>\n",
       "      <td>13.40</td>\n",
       "      <td>20.52</td>\n",
       "      <td>88.64</td>\n",
       "      <td>556.7</td>\n",
       "      <td>0.11060</td>\n",
       "      <td>0.14690</td>\n",
       "      <td>0.14450</td>\n",
       "      <td>0.08172</td>\n",
       "      <td>0.2116</td>\n",
       "      <td>0.07325</td>\n",
       "      <td>0.3906</td>\n",
       "      <td>0.9306</td>\n",
       "      <td>3.093</td>\n",
       "      <td>33.67</td>\n",
       "      <td>0.005414</td>\n",
       "      <td>0.022650</td>\n",
       "      <td>0.034520</td>\n",
       "      <td>0.013340</td>\n",
       "      <td>0.01705</td>\n",
       "      <td>0.004005</td>\n",
       "    </tr>\n",
       "    <tr>\n",
       "      <th>457</th>\n",
       "      <td>13.21</td>\n",
       "      <td>25.25</td>\n",
       "      <td>84.10</td>\n",
       "      <td>537.9</td>\n",
       "      <td>0.08791</td>\n",
       "      <td>0.05205</td>\n",
       "      <td>0.02772</td>\n",
       "      <td>0.02068</td>\n",
       "      <td>0.1619</td>\n",
       "      <td>0.05584</td>\n",
       "      <td>0.2084</td>\n",
       "      <td>1.3500</td>\n",
       "      <td>1.314</td>\n",
       "      <td>17.58</td>\n",
       "      <td>0.005768</td>\n",
       "      <td>0.008082</td>\n",
       "      <td>0.015100</td>\n",
       "      <td>0.006451</td>\n",
       "      <td>0.01347</td>\n",
       "      <td>0.001828</td>\n",
       "    </tr>\n",
       "    <tr>\n",
       "      <th>439</th>\n",
       "      <td>14.02</td>\n",
       "      <td>15.66</td>\n",
       "      <td>89.59</td>\n",
       "      <td>606.5</td>\n",
       "      <td>0.07966</td>\n",
       "      <td>0.05581</td>\n",
       "      <td>0.02087</td>\n",
       "      <td>0.02652</td>\n",
       "      <td>0.1589</td>\n",
       "      <td>0.05586</td>\n",
       "      <td>0.2142</td>\n",
       "      <td>0.6549</td>\n",
       "      <td>1.606</td>\n",
       "      <td>19.25</td>\n",
       "      <td>0.004837</td>\n",
       "      <td>0.009238</td>\n",
       "      <td>0.009213</td>\n",
       "      <td>0.010760</td>\n",
       "      <td>0.01171</td>\n",
       "      <td>0.002104</td>\n",
       "    </tr>\n",
       "    <tr>\n",
       "      <th>298</th>\n",
       "      <td>14.26</td>\n",
       "      <td>18.17</td>\n",
       "      <td>91.22</td>\n",
       "      <td>633.1</td>\n",
       "      <td>0.06576</td>\n",
       "      <td>0.05220</td>\n",
       "      <td>0.02475</td>\n",
       "      <td>0.01374</td>\n",
       "      <td>0.1635</td>\n",
       "      <td>0.05586</td>\n",
       "      <td>0.2300</td>\n",
       "      <td>0.6690</td>\n",
       "      <td>1.661</td>\n",
       "      <td>20.56</td>\n",
       "      <td>0.003169</td>\n",
       "      <td>0.013770</td>\n",
       "      <td>0.010790</td>\n",
       "      <td>0.005243</td>\n",
       "      <td>0.01103</td>\n",
       "      <td>0.001957</td>\n",
       "    </tr>\n",
       "    <tr>\n",
       "      <th>37</th>\n",
       "      <td>13.03</td>\n",
       "      <td>18.42</td>\n",
       "      <td>82.61</td>\n",
       "      <td>523.8</td>\n",
       "      <td>0.08983</td>\n",
       "      <td>0.03766</td>\n",
       "      <td>0.02562</td>\n",
       "      <td>0.02923</td>\n",
       "      <td>0.1467</td>\n",
       "      <td>0.05863</td>\n",
       "      <td>0.1839</td>\n",
       "      <td>2.3420</td>\n",
       "      <td>1.170</td>\n",
       "      <td>14.16</td>\n",
       "      <td>0.004352</td>\n",
       "      <td>0.004899</td>\n",
       "      <td>0.013430</td>\n",
       "      <td>0.011640</td>\n",
       "      <td>0.02671</td>\n",
       "      <td>0.001777</td>\n",
       "    </tr>\n",
       "  </tbody>\n",
       "</table>\n",
       "</div>"
      ],
      "text/plain": [
       "     radius_mean  texture_mean  perimeter_mean  area_mean  smoothness_mean  \\\n",
       "512        13.40         20.52           88.64      556.7          0.11060   \n",
       "457        13.21         25.25           84.10      537.9          0.08791   \n",
       "439        14.02         15.66           89.59      606.5          0.07966   \n",
       "298        14.26         18.17           91.22      633.1          0.06576   \n",
       "37         13.03         18.42           82.61      523.8          0.08983   \n",
       "\n",
       "     compactness_mean  concavity_mean  concave points_mean  symmetry_mean  \\\n",
       "512           0.14690         0.14450              0.08172         0.2116   \n",
       "457           0.05205         0.02772              0.02068         0.1619   \n",
       "439           0.05581         0.02087              0.02652         0.1589   \n",
       "298           0.05220         0.02475              0.01374         0.1635   \n",
       "37            0.03766         0.02562              0.02923         0.1467   \n",
       "\n",
       "     fractal_dimension_mean  radius_se  texture_se  perimeter_se  area_se  \\\n",
       "512                 0.07325     0.3906      0.9306         3.093    33.67   \n",
       "457                 0.05584     0.2084      1.3500         1.314    17.58   \n",
       "439                 0.05586     0.2142      0.6549         1.606    19.25   \n",
       "298                 0.05586     0.2300      0.6690         1.661    20.56   \n",
       "37                  0.05863     0.1839      2.3420         1.170    14.16   \n",
       "\n",
       "     smoothness_se  compactness_se  concavity_se  concave points_se  \\\n",
       "512       0.005414        0.022650      0.034520           0.013340   \n",
       "457       0.005768        0.008082      0.015100           0.006451   \n",
       "439       0.004837        0.009238      0.009213           0.010760   \n",
       "298       0.003169        0.013770      0.010790           0.005243   \n",
       "37        0.004352        0.004899      0.013430           0.011640   \n",
       "\n",
       "     symmetry_se  fractal_dimension_se  \n",
       "512      0.01705              0.004005  \n",
       "457      0.01347              0.001828  \n",
       "439      0.01171              0.002104  \n",
       "298      0.01103              0.001957  \n",
       "37       0.02671              0.001777  "
      ]
     },
     "execution_count": 7,
     "metadata": {},
     "output_type": "execute_result"
    }
   ],
   "source": [
    "y=data.diagnosis.values\n",
    "#x_data=data.drop(['id'], axis=0)\n",
    "x_data=data.drop(['diagnosis'], axis=1)\n",
    "x_data.head()"
   ]
  },
  {
   "cell_type": "code",
   "execution_count": 8,
   "id": "nutritional-george",
   "metadata": {
    "execution": {
     "iopub.execute_input": "2021-09-12T14:38:51.380506Z",
     "iopub.status.busy": "2021-09-12T14:38:51.379577Z",
     "iopub.status.idle": "2021-09-12T14:38:51.390123Z",
     "shell.execute_reply": "2021-09-12T14:38:51.391050Z",
     "shell.execute_reply.started": "2021-09-12T14:00:45.637302Z"
    },
    "papermill": {
     "duration": 0.029633,
     "end_time": "2021-09-12T14:38:51.391334",
     "exception": false,
     "start_time": "2021-09-12T14:38:51.361701",
     "status": "completed"
    },
    "tags": []
   },
   "outputs": [
    {
     "name": "stdout",
     "output_type": "stream",
     "text": [
      "(455, 20)\n",
      "(114, 20)\n"
     ]
    }
   ],
   "source": [
    "X_train,X_test,y_train,y_test=train_test_split(x_data,y,test_size=0.2,stratify=y)\n",
    "print(X_train.shape)\n",
    "print(X_test.shape)\n"
   ]
  },
  {
   "cell_type": "code",
   "execution_count": 9,
   "id": "material-sending",
   "metadata": {
    "execution": {
     "iopub.execute_input": "2021-09-12T14:38:51.426797Z",
     "iopub.status.busy": "2021-09-12T14:38:51.426142Z",
     "iopub.status.idle": "2021-09-12T14:38:51.440123Z",
     "shell.execute_reply": "2021-09-12T14:38:51.440656Z",
     "shell.execute_reply.started": "2021-09-12T14:00:52.318522Z"
    },
    "papermill": {
     "duration": 0.033049,
     "end_time": "2021-09-12T14:38:51.440825",
     "exception": false,
     "start_time": "2021-09-12T14:38:51.407776",
     "status": "completed"
    },
    "tags": []
   },
   "outputs": [],
   "source": [
    "scaler=StandardScaler()\n",
    "X_train=scaler.fit_transform(X_train)\n",
    "X_test=scaler.fit_transform(X_test)\n",
    "X_train=X_train.reshape(455,20,1)\n",
    "X_test=X_test.reshape(114,20,1)\n"
   ]
  },
  {
   "cell_type": "code",
   "execution_count": 10,
   "id": "frozen-heavy",
   "metadata": {
    "execution": {
     "iopub.execute_input": "2021-09-12T14:38:51.475381Z",
     "iopub.status.busy": "2021-09-12T14:38:51.474717Z",
     "iopub.status.idle": "2021-09-12T14:38:51.994215Z",
     "shell.execute_reply": "2021-09-12T14:38:51.993646Z",
     "shell.execute_reply.started": "2021-09-12T14:37:43.919028Z"
    },
    "papermill": {
     "duration": 0.538077,
     "end_time": "2021-09-12T14:38:51.994353",
     "exception": false,
     "start_time": "2021-09-12T14:38:51.456276",
     "status": "completed"
    },
    "tags": []
   },
   "outputs": [
    {
     "name": "stdout",
     "output_type": "stream",
     "text": [
      "Model: \"sequential\"\n",
      "_________________________________________________________________\n",
      "Layer (type)                 Output Shape              Param #   \n",
      "=================================================================\n",
      "dense (Dense)                (None, 20, 16)            32        \n",
      "_________________________________________________________________\n",
      "conv1d (Conv1D)              (None, 19, 16)            528       \n",
      "_________________________________________________________________\n",
      "batch_normalization (BatchNo (None, 19, 16)            64        \n",
      "_________________________________________________________________\n",
      "dropout (Dropout)            (None, 19, 16)            0         \n",
      "_________________________________________________________________\n",
      "max_pooling1d (MaxPooling1D) (None, 18, 16)            0         \n",
      "_________________________________________________________________\n",
      "conv1d_1 (Conv1D)            (None, 17, 16)            528       \n",
      "_________________________________________________________________\n",
      "batch_normalization_1 (Batch (None, 17, 16)            64        \n",
      "_________________________________________________________________\n",
      "dropout_1 (Dropout)          (None, 17, 16)            0         \n",
      "_________________________________________________________________\n",
      "max_pooling1d_1 (MaxPooling1 (None, 16, 16)            0         \n",
      "_________________________________________________________________\n",
      "batch_normalization_2 (Batch (None, 16, 16)            64        \n",
      "_________________________________________________________________\n",
      "conv1d_2 (Conv1D)            (None, 15, 32)            1056      \n",
      "_________________________________________________________________\n",
      "batch_normalization_3 (Batch (None, 15, 32)            128       \n",
      "_________________________________________________________________\n",
      "dropout_2 (Dropout)          (None, 15, 32)            0         \n",
      "_________________________________________________________________\n",
      "max_pooling1d_2 (MaxPooling1 (None, 14, 32)            0         \n",
      "_________________________________________________________________\n",
      "conv1d_3 (Conv1D)            (None, 13, 32)            2080      \n",
      "_________________________________________________________________\n",
      "batch_normalization_4 (Batch (None, 13, 32)            128       \n",
      "_________________________________________________________________\n",
      "dropout_3 (Dropout)          (None, 13, 32)            0         \n",
      "_________________________________________________________________\n",
      "max_pooling1d_3 (MaxPooling1 (None, 12, 32)            0         \n",
      "_________________________________________________________________\n",
      "conv1d_4 (Conv1D)            (None, 11, 64)            4160      \n",
      "_________________________________________________________________\n",
      "batch_normalization_5 (Batch (None, 11, 64)            256       \n",
      "_________________________________________________________________\n",
      "dropout_4 (Dropout)          (None, 11, 64)            0         \n",
      "_________________________________________________________________\n",
      "max_pooling1d_4 (MaxPooling1 (None, 10, 64)            0         \n",
      "_________________________________________________________________\n",
      "dense_1 (Dense)              (None, 10, 64)            4160      \n",
      "_________________________________________________________________\n",
      "dropout_5 (Dropout)          (None, 10, 64)            0         \n",
      "_________________________________________________________________\n",
      "flatten (Flatten)            (None, 640)               0         \n",
      "_________________________________________________________________\n",
      "dense_2 (Dense)              (None, 1)                 641       \n",
      "=================================================================\n",
      "Total params: 13,889\n",
      "Trainable params: 13,537\n",
      "Non-trainable params: 352\n",
      "_________________________________________________________________\n"
     ]
    }
   ],
   "source": [
    "#MODEL1=> FLC from 16\n",
    "from tensorflow.keras.layers import Input, LeakyReLU, ReLU\n",
    "model=Sequential()\n",
    "activation=LeakyReLU()\n",
    "padding='valid'\n",
    "b=0.15\n",
    "\n",
    "model.add(Input(shape=(20,1)))\n",
    "model.add(Dense(16, activation=activation))\n",
    "#layer1\n",
    "model.add(Conv1D(16, kernel_size=2, activation=activation))\n",
    "model.add(BatchNormalization())\n",
    "model.add(Dropout(b))\n",
    "model.add(MaxPool1D(pool_size=2, strides=1, padding=padding))\n",
    "#layer2\n",
    "model.add(Conv1D(16, kernel_size=2, activation=activation))\n",
    "model.add(BatchNormalization())\n",
    "model.add(Dropout(b))\n",
    "model.add(MaxPool1D(pool_size=2, strides=1, padding=padding))\n",
    "model.add(BatchNormalization())\n",
    "#layer3\n",
    "model.add(Conv1D(32, kernel_size=2, activation=activation))\n",
    "model.add(BatchNormalization())\n",
    "model.add(Dropout(b))\n",
    "model.add(MaxPool1D(pool_size=2, strides=1, padding=padding))\n",
    "#layer4\n",
    "model.add(Conv1D(32, kernel_size=2, activation=activation))\n",
    "model.add(BatchNormalization())\n",
    "model.add(Dropout(b))\n",
    "model.add(MaxPool1D(pool_size=2, strides=1, padding=padding))\n",
    "#layer5\n",
    "model.add(Conv1D(64, kernel_size=2, activation=activation))\n",
    "model.add(BatchNormalization())\n",
    "model.add(Dropout(b))\n",
    "model.add(MaxPool1D(pool_size=2, strides=1, padding=padding))\n",
    "\n",
    "model.add(Dense(64, activation=\"sigmoid\"))\n",
    "model.add(Dropout(b))\n",
    "\n",
    "model.add(Flatten())\n",
    "model.add(Dense(1,activation=\"sigmoid\"))\n",
    "\n",
    "model.summary()\n",
    "model.compile(optimizer=Adam(lr=0.0001),loss='binary_crossentropy',metrics=['accuracy'])"
   ]
  },
  {
   "cell_type": "code",
   "execution_count": 11,
   "id": "synthetic-register",
   "metadata": {
    "execution": {
     "iopub.execute_input": "2021-09-12T14:38:52.032175Z",
     "iopub.status.busy": "2021-09-12T14:38:52.031375Z",
     "iopub.status.idle": "2021-09-12T14:39:05.399537Z",
     "shell.execute_reply": "2021-09-12T14:39:05.400051Z",
     "shell.execute_reply.started": "2021-09-12T14:37:45.487305Z"
    },
    "papermill": {
     "duration": 13.389825,
     "end_time": "2021-09-12T14:39:05.400216",
     "exception": false,
     "start_time": "2021-09-12T14:38:52.010391",
     "status": "completed"
    },
    "tags": []
   },
   "outputs": [
    {
     "name": "stdout",
     "output_type": "stream",
     "text": [
      "Epoch 1/50\n",
      "15/15 [==============================] - 3s 67ms/step - loss: 0.6987 - accuracy: 0.5067 - val_loss: 0.6700 - val_accuracy: 0.6316\n",
      "Epoch 2/50\n",
      "15/15 [==============================] - 0s 14ms/step - loss: 0.6804 - accuracy: 0.5836 - val_loss: 0.6581 - val_accuracy: 0.6316\n",
      "Epoch 3/50\n",
      "15/15 [==============================] - 0s 13ms/step - loss: 0.6306 - accuracy: 0.6117 - val_loss: 0.6568 - val_accuracy: 0.6316\n",
      "Epoch 4/50\n",
      "15/15 [==============================] - 0s 13ms/step - loss: 0.6219 - accuracy: 0.6447 - val_loss: 0.6553 - val_accuracy: 0.6316\n",
      "Epoch 5/50\n",
      "15/15 [==============================] - 0s 14ms/step - loss: 0.5655 - accuracy: 0.7191 - val_loss: 0.6530 - val_accuracy: 0.6316\n",
      "Epoch 6/50\n",
      "15/15 [==============================] - 0s 13ms/step - loss: 0.5444 - accuracy: 0.7583 - val_loss: 0.6497 - val_accuracy: 0.6316\n",
      "Epoch 7/50\n",
      "15/15 [==============================] - 0s 14ms/step - loss: 0.5368 - accuracy: 0.7492 - val_loss: 0.6443 - val_accuracy: 0.6316\n",
      "Epoch 8/50\n",
      "15/15 [==============================] - 0s 15ms/step - loss: 0.5170 - accuracy: 0.7425 - val_loss: 0.6374 - val_accuracy: 0.6316\n",
      "Epoch 9/50\n",
      "15/15 [==============================] - 0s 13ms/step - loss: 0.4816 - accuracy: 0.7997 - val_loss: 0.6296 - val_accuracy: 0.6316\n",
      "Epoch 10/50\n",
      "15/15 [==============================] - 0s 13ms/step - loss: 0.4491 - accuracy: 0.8263 - val_loss: 0.6180 - val_accuracy: 0.6404\n",
      "Epoch 11/50\n",
      "15/15 [==============================] - 0s 13ms/step - loss: 0.4474 - accuracy: 0.8460 - val_loss: 0.6041 - val_accuracy: 0.6404\n",
      "Epoch 12/50\n",
      "15/15 [==============================] - 0s 15ms/step - loss: 0.4559 - accuracy: 0.8190 - val_loss: 0.5869 - val_accuracy: 0.6404\n",
      "Epoch 13/50\n",
      "15/15 [==============================] - 0s 16ms/step - loss: 0.4107 - accuracy: 0.8345 - val_loss: 0.5676 - val_accuracy: 0.6404\n",
      "Epoch 14/50\n",
      "15/15 [==============================] - 0s 16ms/step - loss: 0.4007 - accuracy: 0.8673 - val_loss: 0.5477 - val_accuracy: 0.6491\n",
      "Epoch 15/50\n",
      "15/15 [==============================] - 0s 15ms/step - loss: 0.3589 - accuracy: 0.9025 - val_loss: 0.5250 - val_accuracy: 0.6842\n",
      "Epoch 16/50\n",
      "15/15 [==============================] - 0s 14ms/step - loss: 0.3629 - accuracy: 0.8565 - val_loss: 0.5025 - val_accuracy: 0.6930\n",
      "Epoch 17/50\n",
      "15/15 [==============================] - 0s 13ms/step - loss: 0.3379 - accuracy: 0.8743 - val_loss: 0.4785 - val_accuracy: 0.7632\n",
      "Epoch 18/50\n",
      "15/15 [==============================] - 0s 13ms/step - loss: 0.3688 - accuracy: 0.8592 - val_loss: 0.4550 - val_accuracy: 0.8684\n",
      "Epoch 19/50\n",
      "15/15 [==============================] - 0s 13ms/step - loss: 0.3278 - accuracy: 0.8718 - val_loss: 0.4323 - val_accuracy: 0.9035\n",
      "Epoch 20/50\n",
      "15/15 [==============================] - 0s 13ms/step - loss: 0.3316 - accuracy: 0.8748 - val_loss: 0.4121 - val_accuracy: 0.9035\n",
      "Epoch 21/50\n",
      "15/15 [==============================] - 0s 13ms/step - loss: 0.3017 - accuracy: 0.9083 - val_loss: 0.3932 - val_accuracy: 0.9211\n",
      "Epoch 22/50\n",
      "15/15 [==============================] - 0s 13ms/step - loss: 0.3152 - accuracy: 0.9069 - val_loss: 0.3724 - val_accuracy: 0.9298\n",
      "Epoch 23/50\n",
      "15/15 [==============================] - 0s 14ms/step - loss: 0.2852 - accuracy: 0.9230 - val_loss: 0.3550 - val_accuracy: 0.9298\n",
      "Epoch 24/50\n",
      "15/15 [==============================] - 0s 13ms/step - loss: 0.3016 - accuracy: 0.8842 - val_loss: 0.3386 - val_accuracy: 0.9211\n",
      "Epoch 25/50\n",
      "15/15 [==============================] - 0s 13ms/step - loss: 0.3086 - accuracy: 0.8817 - val_loss: 0.3235 - val_accuracy: 0.9123\n",
      "Epoch 26/50\n",
      "15/15 [==============================] - 0s 13ms/step - loss: 0.2723 - accuracy: 0.9046 - val_loss: 0.3092 - val_accuracy: 0.9123\n",
      "Epoch 27/50\n",
      "15/15 [==============================] - 0s 14ms/step - loss: 0.2715 - accuracy: 0.9200 - val_loss: 0.2963 - val_accuracy: 0.9123\n",
      "Epoch 28/50\n",
      "15/15 [==============================] - 0s 14ms/step - loss: 0.2633 - accuracy: 0.9116 - val_loss: 0.2832 - val_accuracy: 0.9123\n",
      "Epoch 29/50\n",
      "15/15 [==============================] - 0s 14ms/step - loss: 0.2567 - accuracy: 0.9284 - val_loss: 0.2721 - val_accuracy: 0.9123\n",
      "Epoch 30/50\n",
      "15/15 [==============================] - 0s 14ms/step - loss: 0.2755 - accuracy: 0.8969 - val_loss: 0.2623 - val_accuracy: 0.9211\n",
      "Epoch 31/50\n",
      "15/15 [==============================] - 0s 13ms/step - loss: 0.2668 - accuracy: 0.9202 - val_loss: 0.2551 - val_accuracy: 0.9211\n",
      "Epoch 32/50\n",
      "15/15 [==============================] - 0s 13ms/step - loss: 0.2350 - accuracy: 0.9330 - val_loss: 0.2470 - val_accuracy: 0.9211\n",
      "Epoch 33/50\n",
      "15/15 [==============================] - 0s 13ms/step - loss: 0.2509 - accuracy: 0.9261 - val_loss: 0.2397 - val_accuracy: 0.9211\n",
      "Epoch 34/50\n",
      "15/15 [==============================] - 0s 14ms/step - loss: 0.2219 - accuracy: 0.9332 - val_loss: 0.2334 - val_accuracy: 0.9298\n",
      "Epoch 35/50\n",
      "15/15 [==============================] - 0s 13ms/step - loss: 0.2697 - accuracy: 0.9235 - val_loss: 0.2275 - val_accuracy: 0.9035\n",
      "Epoch 36/50\n",
      "15/15 [==============================] - 0s 13ms/step - loss: 0.2300 - accuracy: 0.9277 - val_loss: 0.2222 - val_accuracy: 0.9211\n",
      "Epoch 37/50\n",
      "15/15 [==============================] - 0s 13ms/step - loss: 0.2391 - accuracy: 0.9282 - val_loss: 0.2180 - val_accuracy: 0.9298\n",
      "Epoch 38/50\n",
      "15/15 [==============================] - 0s 13ms/step - loss: 0.2107 - accuracy: 0.9264 - val_loss: 0.2134 - val_accuracy: 0.9386\n",
      "Epoch 39/50\n",
      "15/15 [==============================] - 0s 14ms/step - loss: 0.2514 - accuracy: 0.8980 - val_loss: 0.2097 - val_accuracy: 0.9386\n",
      "Epoch 40/50\n",
      "15/15 [==============================] - 0s 13ms/step - loss: 0.2009 - accuracy: 0.9317 - val_loss: 0.2063 - val_accuracy: 0.9386\n",
      "Epoch 41/50\n",
      "15/15 [==============================] - 0s 13ms/step - loss: 0.2083 - accuracy: 0.9293 - val_loss: 0.2037 - val_accuracy: 0.9386\n",
      "Epoch 42/50\n",
      "15/15 [==============================] - 0s 13ms/step - loss: 0.2259 - accuracy: 0.9158 - val_loss: 0.2007 - val_accuracy: 0.9298\n",
      "Epoch 43/50\n",
      "15/15 [==============================] - 0s 13ms/step - loss: 0.2308 - accuracy: 0.9227 - val_loss: 0.1974 - val_accuracy: 0.9386\n",
      "Epoch 44/50\n",
      "15/15 [==============================] - 0s 13ms/step - loss: 0.2540 - accuracy: 0.8896 - val_loss: 0.1949 - val_accuracy: 0.9386\n",
      "Epoch 45/50\n",
      "15/15 [==============================] - 0s 14ms/step - loss: 0.2068 - accuracy: 0.9292 - val_loss: 0.1930 - val_accuracy: 0.9386\n",
      "Epoch 46/50\n",
      "15/15 [==============================] - 0s 13ms/step - loss: 0.2139 - accuracy: 0.9398 - val_loss: 0.1900 - val_accuracy: 0.9386\n",
      "Epoch 47/50\n",
      "15/15 [==============================] - 0s 13ms/step - loss: 0.2304 - accuracy: 0.9142 - val_loss: 0.1887 - val_accuracy: 0.9386\n",
      "Epoch 48/50\n",
      "15/15 [==============================] - 0s 13ms/step - loss: 0.2076 - accuracy: 0.9230 - val_loss: 0.1860 - val_accuracy: 0.9386\n",
      "Epoch 49/50\n",
      "15/15 [==============================] - 0s 13ms/step - loss: 0.2052 - accuracy: 0.9215 - val_loss: 0.1863 - val_accuracy: 0.9386\n",
      "Epoch 50/50\n",
      "15/15 [==============================] - 0s 13ms/step - loss: 0.2054 - accuracy: 0.9279 - val_loss: 0.1851 - val_accuracy: 0.9386\n"
     ]
    }
   ],
   "source": [
    "epoch=50\n",
    "history=model.fit(X_train,y_train,epochs=epoch,validation_data=(X_test,y_test),verbose=1)"
   ]
  },
  {
   "cell_type": "code",
   "execution_count": 12,
   "id": "recorded-celtic",
   "metadata": {
    "execution": {
     "iopub.execute_input": "2021-09-12T14:39:05.587040Z",
     "iopub.status.busy": "2021-09-12T14:39:05.586381Z",
     "iopub.status.idle": "2021-09-12T14:39:05.919592Z",
     "shell.execute_reply": "2021-09-12T14:39:05.920095Z",
     "shell.execute_reply.started": "2021-09-12T14:10:17.137289Z"
    },
    "papermill": {
     "duration": 0.428215,
     "end_time": "2021-09-12T14:39:05.920263",
     "exception": false,
     "start_time": "2021-09-12T14:39:05.492048",
     "status": "completed"
    },
    "tags": []
   },
   "outputs": [
    {
     "data": {
      "image/png": "[encoded data removed]",
      "text/plain": [
       "<Figure size 432x288 with 1 Axes>"
      ]
     },
     "metadata": {
      "needs_background": "light"
     },
     "output_type": "display_data"
    },
    {
     "data": {
      "image/png": "[encoded data removed]",
      "text/plain": [
       "<Figure size 432x288 with 1 Axes>"
      ]
     },
     "metadata": {
      "needs_background": "light"
     },
     "output_type": "display_data"
    }
   ],
   "source": [
    "def plot_learningCurve(history,epoch):\n",
    "  epoch_range=range(1,epoch+1)\n",
    "  plt.plot(epoch_range,history.history['accuracy'])\n",
    "  plt.plot(epoch_range,history.history['val_accuracy'])\n",
    "  plt.title('Model Accuracy')\n",
    "  plt.xlabel('Epoch')\n",
    "  plt.ylabel('Accuracy')\n",
    "  plt.legend(['Train','Val'],loc='upper left')\n",
    "  plt.show()\n",
    "\n",
    "  epoch_range=range(1,epoch+1)\n",
    "  plt.plot(epoch_range,history.history['loss'])\n",
    "  plt.plot(epoch_range,history.history['val_loss'])\n",
    "  plt.title('Model loss')\n",
    "  plt.xlabel('Epoch')\n",
    "  plt.ylabel('Loss')\n",
    "  plt.legend(['Train','Val'],loc='upper left')\n",
    "  plt.show()\n",
    "plot_learningCurve(history,epoch)"
   ]
  },
  {
   "cell_type": "code",
   "execution_count": null,
   "id": "growing-brighton",
   "metadata": {
    "papermill": {
     "duration": 0.092512,
     "end_time": "2021-09-12T14:39:06.106144",
     "exception": false,
     "start_time": "2021-09-12T14:39:06.013632",
     "status": "completed"
    },
    "tags": []
   },
   "outputs": [],
   "source": []
  },
  {
   "cell_type": "code",
   "execution_count": null,
   "id": "adaptive-bulgarian",
   "metadata": {
    "papermill": {
     "duration": 0.092001,
     "end_time": "2021-09-12T14:39:06.291995",
     "exception": false,
     "start_time": "2021-09-12T14:39:06.199994",
     "status": "completed"
    },
    "tags": []
   },
   "outputs": [],
   "source": []
  },
  {
   "cell_type": "code",
   "execution_count": null,
   "id": "prompt-interaction",
   "metadata": {
    "papermill": {
     "duration": 0.092039,
     "end_time": "2021-09-12T14:39:06.478095",
     "exception": false,
     "start_time": "2021-09-12T14:39:06.386056",
     "status": "completed"
    },
    "tags": []
   },
   "outputs": [],
   "source": []
  },
  {
   "cell_type": "code",
   "execution_count": null,
   "id": "gothic-myanmar",
   "metadata": {
    "papermill": {
     "duration": 0.094206,
     "end_time": "2021-09-12T14:39:06.664515",
     "exception": false,
     "start_time": "2021-09-12T14:39:06.570309",
     "status": "completed"
    },
    "tags": []
   },
   "outputs": [],
   "source": []
  },
  {
   "cell_type": "code",
   "execution_count": null,
   "id": "welcome-carrier",
   "metadata": {
    "papermill": {
     "duration": 0.092015,
     "end_time": "2021-09-12T14:39:06.850067",
     "exception": false,
     "start_time": "2021-09-12T14:39:06.758052",
     "status": "completed"
    },
    "tags": []
   },
   "outputs": [],
   "source": []
  }
 ],
 "metadata": {
  "kernelspec": {
   "display_name": "Python 3",
   "language": "python",
   "name": "python3"
  },
  "language_info": {
   "codemirror_mode": {
    "name": "ipython",
    "version": 3
   },
   "file_extension": ".py",
   "mimetype": "text/x-python",
   "name": "python",
   "nbconvert_exporter": "python",
   "pygments_lexer": "ipython3",
   "version": "3.7.10"
  },
  "papermill": {
   "default_parameters": {},
   "duration": 32.878121,
   "end_time": "2021-09-12T14:39:08.737498",
   "environment_variables": {},
   "exception": null,
   "input_path": "__notebook__.ipynb",
   "output_path": "__notebook__.ipynb",
   "parameters": {},
   "start_time": "2021-09-12T14:38:35.859377",
   "version": "2.3.3"
  }
 },
 "nbformat": 4,
 "nbformat_minor": 5
}
